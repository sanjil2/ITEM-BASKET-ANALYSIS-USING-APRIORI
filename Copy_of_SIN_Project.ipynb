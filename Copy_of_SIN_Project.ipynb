{
  "nbformat": 4,
  "nbformat_minor": 0,
  "metadata": {
    "colab": {
      "provenance": [],
      "include_colab_link": true
    },
    "kernelspec": {
      "name": "python3",
      "display_name": "Python 3"
    },
    "language_info": {
      "name": "python"
    }
  },
  "cells": [
    {
      "cell_type": "markdown",
      "metadata": {
        "id": "view-in-github",
        "colab_type": "text"
      },
      "source": [
        "<a href=\"https://colab.research.google.com/github/sanjil2/ITEM-BASKET-ANALYSIS-USING-APRIORI/blob/main/Copy_of_SIN_Project.ipynb\" target=\"_parent\"><img src=\"https://colab.research.google.com/assets/colab-badge.svg\" alt=\"Open In Colab\"/></a>"
      ]
    },
    {
      "cell_type": "markdown",
      "metadata": {
        "id": "Y1kYU9qSDMDY"
      },
      "source": []
    },
    {
      "cell_type": "markdown",
      "metadata": {
        "id": "gYih9ZkDDNcw"
      },
      "source": [
        "<h2>ITEM-BASKET Analysis Using Apriori Dataset-2</h2>\n",
        "\n",
        "---\n",
        "\n"
      ]
    },
    {
      "cell_type": "code",
      "metadata": {
        "colab": {
          "base_uri": "https://localhost:8080/"
        },
        "id": "DhXbmd1cDGMM",
        "outputId": "8ac8cfef-4336-4612-986a-e430d88c647e"
      },
      "source": [
        "from google.colab import drive\n",
        "drive.mount('/content/drive') "
      ],
      "execution_count": 1,
      "outputs": [
        {
          "output_type": "stream",
          "name": "stdout",
          "text": [
            "Mounted at /content/drive\n"
          ]
        }
      ]
    },
    {
      "cell_type": "markdown",
      "metadata": {
        "id": "-sTmNtvdyfyp"
      },
      "source": [
        "We are using the new Approach so that we get a proper representation of frequent itemset and association rules for representing real life data with thousand of transactions.  "
      ]
    },
    {
      "cell_type": "code",
      "metadata": {
        "id": "1fJQ8MSsDq6o"
      },
      "source": [
        "#importing packages\n",
        "import pandas as pd\n",
        "import numpy as np\n",
        "from mlxtend.frequent_patterns import apriori\n",
        "from mlxtend.frequent_patterns import association_rules"
      ],
      "execution_count": 2,
      "outputs": []
    },
    {
      "cell_type": "code",
      "metadata": {
        "id": "emo4b56oDyu1"
      },
      "source": [
        " #importing the data from real E-commerse dataset.\n",
        "df=pd.read_excel('/content/Online Retail.xlsx') "
      ],
      "execution_count": 3,
      "outputs": []
    },
    {
      "cell_type": "code",
      "metadata": {
        "colab": {
          "base_uri": "https://localhost:8080/",
          "height": 206
        },
        "id": "sxPlCXrZz-lm",
        "outputId": "fc7b36a0-1063-41aa-ba36-66aeaf747586"
      },
      "source": [
        "df.head()"
      ],
      "execution_count": 4,
      "outputs": [
        {
          "output_type": "execute_result",
          "data": {
            "text/plain": [
              "  InvoiceNo StockCode                          Description  Quantity  \\\n",
              "0    536365    85123A   WHITE HANGING HEART T-LIGHT HOLDER         6   \n",
              "1    536365     71053                  WHITE METAL LANTERN         6   \n",
              "2    536365    84406B       CREAM CUPID HEARTS COAT HANGER         8   \n",
              "3    536365    84029G  KNITTED UNION FLAG HOT WATER BOTTLE         6   \n",
              "4    536365    84029E       RED WOOLLY HOTTIE WHITE HEART.         6   \n",
              "\n",
              "          InvoiceDate  UnitPrice  CustomerID         Country  \n",
              "0 2010-12-01 08:26:00       2.55     17850.0  United Kingdom  \n",
              "1 2010-12-01 08:26:00       3.39     17850.0  United Kingdom  \n",
              "2 2010-12-01 08:26:00       2.75     17850.0  United Kingdom  \n",
              "3 2010-12-01 08:26:00       3.39     17850.0  United Kingdom  \n",
              "4 2010-12-01 08:26:00       3.39     17850.0  United Kingdom  "
            ],
            "text/html": [
              "\n",
              "  <div id=\"df-45ef64c7-b1aa-4c50-afb2-b9828565015d\">\n",
              "    <div class=\"colab-df-container\">\n",
              "      <div>\n",
              "<style scoped>\n",
              "    .dataframe tbody tr th:only-of-type {\n",
              "        vertical-align: middle;\n",
              "    }\n",
              "\n",
              "    .dataframe tbody tr th {\n",
              "        vertical-align: top;\n",
              "    }\n",
              "\n",
              "    .dataframe thead th {\n",
              "        text-align: right;\n",
              "    }\n",
              "</style>\n",
              "<table border=\"1\" class=\"dataframe\">\n",
              "  <thead>\n",
              "    <tr style=\"text-align: right;\">\n",
              "      <th></th>\n",
              "      <th>InvoiceNo</th>\n",
              "      <th>StockCode</th>\n",
              "      <th>Description</th>\n",
              "      <th>Quantity</th>\n",
              "      <th>InvoiceDate</th>\n",
              "      <th>UnitPrice</th>\n",
              "      <th>CustomerID</th>\n",
              "      <th>Country</th>\n",
              "    </tr>\n",
              "  </thead>\n",
              "  <tbody>\n",
              "    <tr>\n",
              "      <th>0</th>\n",
              "      <td>536365</td>\n",
              "      <td>85123A</td>\n",
              "      <td>WHITE HANGING HEART T-LIGHT HOLDER</td>\n",
              "      <td>6</td>\n",
              "      <td>2010-12-01 08:26:00</td>\n",
              "      <td>2.55</td>\n",
              "      <td>17850.0</td>\n",
              "      <td>United Kingdom</td>\n",
              "    </tr>\n",
              "    <tr>\n",
              "      <th>1</th>\n",
              "      <td>536365</td>\n",
              "      <td>71053</td>\n",
              "      <td>WHITE METAL LANTERN</td>\n",
              "      <td>6</td>\n",
              "      <td>2010-12-01 08:26:00</td>\n",
              "      <td>3.39</td>\n",
              "      <td>17850.0</td>\n",
              "      <td>United Kingdom</td>\n",
              "    </tr>\n",
              "    <tr>\n",
              "      <th>2</th>\n",
              "      <td>536365</td>\n",
              "      <td>84406B</td>\n",
              "      <td>CREAM CUPID HEARTS COAT HANGER</td>\n",
              "      <td>8</td>\n",
              "      <td>2010-12-01 08:26:00</td>\n",
              "      <td>2.75</td>\n",
              "      <td>17850.0</td>\n",
              "      <td>United Kingdom</td>\n",
              "    </tr>\n",
              "    <tr>\n",
              "      <th>3</th>\n",
              "      <td>536365</td>\n",
              "      <td>84029G</td>\n",
              "      <td>KNITTED UNION FLAG HOT WATER BOTTLE</td>\n",
              "      <td>6</td>\n",
              "      <td>2010-12-01 08:26:00</td>\n",
              "      <td>3.39</td>\n",
              "      <td>17850.0</td>\n",
              "      <td>United Kingdom</td>\n",
              "    </tr>\n",
              "    <tr>\n",
              "      <th>4</th>\n",
              "      <td>536365</td>\n",
              "      <td>84029E</td>\n",
              "      <td>RED WOOLLY HOTTIE WHITE HEART.</td>\n",
              "      <td>6</td>\n",
              "      <td>2010-12-01 08:26:00</td>\n",
              "      <td>3.39</td>\n",
              "      <td>17850.0</td>\n",
              "      <td>United Kingdom</td>\n",
              "    </tr>\n",
              "  </tbody>\n",
              "</table>\n",
              "</div>\n",
              "      <button class=\"colab-df-convert\" onclick=\"convertToInteractive('df-45ef64c7-b1aa-4c50-afb2-b9828565015d')\"\n",
              "              title=\"Convert this dataframe to an interactive table.\"\n",
              "              style=\"display:none;\">\n",
              "        \n",
              "  <svg xmlns=\"http://www.w3.org/2000/svg\" height=\"24px\"viewBox=\"0 0 24 24\"\n",
              "       width=\"24px\">\n",
              "    <path d=\"M0 0h24v24H0V0z\" fill=\"none\"/>\n",
              "    <path d=\"M18.56 5.44l.94 2.06.94-2.06 2.06-.94-2.06-.94-.94-2.06-.94 2.06-2.06.94zm-11 1L8.5 8.5l.94-2.06 2.06-.94-2.06-.94L8.5 2.5l-.94 2.06-2.06.94zm10 10l.94 2.06.94-2.06 2.06-.94-2.06-.94-.94-2.06-.94 2.06-2.06.94z\"/><path d=\"M17.41 7.96l-1.37-1.37c-.4-.4-.92-.59-1.43-.59-.52 0-1.04.2-1.43.59L10.3 9.45l-7.72 7.72c-.78.78-.78 2.05 0 2.83L4 21.41c.39.39.9.59 1.41.59.51 0 1.02-.2 1.41-.59l7.78-7.78 2.81-2.81c.8-.78.8-2.07 0-2.86zM5.41 20L4 18.59l7.72-7.72 1.47 1.35L5.41 20z\"/>\n",
              "  </svg>\n",
              "      </button>\n",
              "      \n",
              "  <style>\n",
              "    .colab-df-container {\n",
              "      display:flex;\n",
              "      flex-wrap:wrap;\n",
              "      gap: 12px;\n",
              "    }\n",
              "\n",
              "    .colab-df-convert {\n",
              "      background-color: #E8F0FE;\n",
              "      border: none;\n",
              "      border-radius: 50%;\n",
              "      cursor: pointer;\n",
              "      display: none;\n",
              "      fill: #1967D2;\n",
              "      height: 32px;\n",
              "      padding: 0 0 0 0;\n",
              "      width: 32px;\n",
              "    }\n",
              "\n",
              "    .colab-df-convert:hover {\n",
              "      background-color: #E2EBFA;\n",
              "      box-shadow: 0px 1px 2px rgba(60, 64, 67, 0.3), 0px 1px 3px 1px rgba(60, 64, 67, 0.15);\n",
              "      fill: #174EA6;\n",
              "    }\n",
              "\n",
              "    [theme=dark] .colab-df-convert {\n",
              "      background-color: #3B4455;\n",
              "      fill: #D2E3FC;\n",
              "    }\n",
              "\n",
              "    [theme=dark] .colab-df-convert:hover {\n",
              "      background-color: #434B5C;\n",
              "      box-shadow: 0px 1px 3px 1px rgba(0, 0, 0, 0.15);\n",
              "      filter: drop-shadow(0px 1px 2px rgba(0, 0, 0, 0.3));\n",
              "      fill: #FFFFFF;\n",
              "    }\n",
              "  </style>\n",
              "\n",
              "      <script>\n",
              "        const buttonEl =\n",
              "          document.querySelector('#df-45ef64c7-b1aa-4c50-afb2-b9828565015d button.colab-df-convert');\n",
              "        buttonEl.style.display =\n",
              "          google.colab.kernel.accessAllowed ? 'block' : 'none';\n",
              "\n",
              "        async function convertToInteractive(key) {\n",
              "          const element = document.querySelector('#df-45ef64c7-b1aa-4c50-afb2-b9828565015d');\n",
              "          const dataTable =\n",
              "            await google.colab.kernel.invokeFunction('convertToInteractive',\n",
              "                                                     [key], {});\n",
              "          if (!dataTable) return;\n",
              "\n",
              "          const docLinkHtml = 'Like what you see? Visit the ' +\n",
              "            '<a target=\"_blank\" href=https://colab.research.google.com/notebooks/data_table.ipynb>data table notebook</a>'\n",
              "            + ' to learn more about interactive tables.';\n",
              "          element.innerHTML = '';\n",
              "          dataTable['output_type'] = 'display_data';\n",
              "          await google.colab.output.renderOutput(dataTable, element);\n",
              "          const docLink = document.createElement('div');\n",
              "          docLink.innerHTML = docLinkHtml;\n",
              "          element.appendChild(docLink);\n",
              "        }\n",
              "      </script>\n",
              "    </div>\n",
              "  </div>\n",
              "  "
            ]
          },
          "metadata": {},
          "execution_count": 4
        }
      ]
    },
    {
      "cell_type": "code",
      "metadata": {
        "colab": {
          "base_uri": "https://localhost:8080/"
        },
        "id": "ea8MCR_D0BXk",
        "outputId": "e3af6be1-4fee-4e48-cec7-e2b9b815a07c"
      },
      "source": [
        "df.count()"
      ],
      "execution_count": 5,
      "outputs": [
        {
          "output_type": "execute_result",
          "data": {
            "text/plain": [
              "InvoiceNo      541909\n",
              "StockCode      541909\n",
              "Description    540455\n",
              "Quantity       541909\n",
              "InvoiceDate    541909\n",
              "UnitPrice      541909\n",
              "CustomerID     406829\n",
              "Country        541909\n",
              "dtype: int64"
            ]
          },
          "metadata": {},
          "execution_count": 5
        }
      ]
    },
    {
      "cell_type": "code",
      "metadata": {
        "colab": {
          "base_uri": "https://localhost:8080/"
        },
        "id": "EHY89Hbv0EvE",
        "outputId": "fea12e82-eb05-44d2-c62c-d929a0d35a77"
      },
      "source": [
        "df.Country.value_counts()"
      ],
      "execution_count": 6,
      "outputs": [
        {
          "output_type": "execute_result",
          "data": {
            "text/plain": [
              "United Kingdom          495478\n",
              "Germany                   9495\n",
              "France                    8557\n",
              "EIRE                      8196\n",
              "Spain                     2533\n",
              "Netherlands               2371\n",
              "Belgium                   2069\n",
              "Switzerland               2002\n",
              "Portugal                  1519\n",
              "Australia                 1259\n",
              "Norway                    1086\n",
              "Italy                      803\n",
              "Channel Islands            758\n",
              "Finland                    695\n",
              "Cyprus                     622\n",
              "Sweden                     462\n",
              "Unspecified                446\n",
              "Austria                    401\n",
              "Denmark                    389\n",
              "Japan                      358\n",
              "Poland                     341\n",
              "Israel                     297\n",
              "USA                        291\n",
              "Hong Kong                  288\n",
              "Singapore                  229\n",
              "Iceland                    182\n",
              "Canada                     151\n",
              "Greece                     146\n",
              "Malta                      127\n",
              "United Arab Emirates        68\n",
              "European Community          61\n",
              "RSA                         58\n",
              "Lebanon                     45\n",
              "Lithuania                   35\n",
              "Brazil                      32\n",
              "Czech Republic              30\n",
              "Bahrain                     19\n",
              "Saudi Arabia                10\n",
              "Name: Country, dtype: int64"
            ]
          },
          "metadata": {},
          "execution_count": 6
        }
      ]
    },
    {
      "cell_type": "code",
      "metadata": {
        "id": "qR5J4Ssk0Ltw"
      },
      "source": [
        "#using the germany dataset\n",
        "df1=df[df.Country=='Germany']"
      ],
      "execution_count": 7,
      "outputs": []
    },
    {
      "cell_type": "code",
      "metadata": {
        "colab": {
          "base_uri": "https://localhost:8080/"
        },
        "id": "JHGSQjXv25hC",
        "outputId": "74769853-ed23-4f85-ae55-d80d42410422"
      },
      "source": [
        "df1.value_counts()"
      ],
      "execution_count": 8,
      "outputs": [
        {
          "output_type": "execute_result",
          "data": {
            "text/plain": [
              "InvoiceNo  StockCode  Description                          Quantity  InvoiceDate          UnitPrice  CustomerID  Country\n",
              "553731     23208      LUNCH BAG VINTAGE LEAF DESIGN         10       2011-05-19 08:26:00  1.65       12481.0     Germany    2\n",
              "542106     20676      RED RETROSPOT BOWL                    24       2011-01-25 13:37:00  1.25       12709.0     Germany    2\n",
              "538174     22326      ROUND SNACK BOXES SET OF4 WOODLAND    12       2010-12-10 09:35:00  2.95       12471.0     Germany    2\n",
              "576607     22086      PAPER CHAIN KIT 50'S CHRISTMAS        6        2011-11-15 15:42:00  2.95       12474.0     Germany    2\n",
              "555162     22704      WRAP RED APPLES                       25       2011-06-01 10:15:00  0.42       12473.0     Germany    2\n",
              "                                                                                                                           ..\n",
              "554106     22531      MAGIC DRAWING SLATE CIRCUS PARADE     24       2011-05-22 14:05:00  0.42       12710.0     Germany    1\n",
              "           22534      MAGIC DRAWING SLATE SPACEBOY          24       2011-05-22 14:05:00  0.42       12710.0     Germany    1\n",
              "           22561      WOODEN SCHOOL COLOURING SET           12       2011-05-22 14:05:00  1.65       12710.0     Germany    1\n",
              "           22617      BAKING SET SPACEBOY DESIGN            3        2011-05-22 14:05:00  4.95       12710.0     Germany    1\n",
              "C581409    85199L     LARGE HANGING IVORY & RED WOOD BIRD  -1        2011-12-08 14:08:00  0.65       12476.0     Germany    1\n",
              "Length: 9480, dtype: int64"
            ]
          },
          "metadata": {},
          "execution_count": 8
        }
      ]
    },
    {
      "cell_type": "code",
      "metadata": {
        "colab": {
          "base_uri": "https://localhost:8080/",
          "height": 363
        },
        "id": "8oQMvWeQ3BoC",
        "outputId": "6ea51186-81f5-42a6-8a0d-1cbe4ab48d9d"
      },
      "source": [
        "df1.head(10)"
      ],
      "execution_count": 9,
      "outputs": [
        {
          "output_type": "execute_result",
          "data": {
            "text/plain": [
              "     InvoiceNo StockCode                          Description  Quantity  \\\n",
              "1109    536527     22809              SET OF 6 T-LIGHTS SANTA         6   \n",
              "1110    536527     84347  ROTATING SILVER ANGELS T-LIGHT HLDR         6   \n",
              "1111    536527     84945   MULTI COLOUR SILVER T-LIGHT HOLDER        12   \n",
              "1112    536527     22242        5 HOOK HANGER MAGIC TOADSTOOL        12   \n",
              "1113    536527     22244           3 HOOK HANGER MAGIC GARDEN        12   \n",
              "1114    536527     22243    5 HOOK HANGER RED MAGIC TOADSTOOL        12   \n",
              "1115    536527     47421  ASSORTED COLOUR LIZARD SUCTION HOOK        24   \n",
              "1116    536527     20712           JUMBO BAG WOODLAND ANIMALS        10   \n",
              "1117    536527     20713                       JUMBO BAG OWLS        10   \n",
              "1118    536527     22837           HOT WATER BOTTLE BABUSHKA          4   \n",
              "\n",
              "             InvoiceDate  UnitPrice  CustomerID  Country  \n",
              "1109 2010-12-01 13:04:00       2.95     12662.0  Germany  \n",
              "1110 2010-12-01 13:04:00       2.55     12662.0  Germany  \n",
              "1111 2010-12-01 13:04:00       0.85     12662.0  Germany  \n",
              "1112 2010-12-01 13:04:00       1.65     12662.0  Germany  \n",
              "1113 2010-12-01 13:04:00       1.95     12662.0  Germany  \n",
              "1114 2010-12-01 13:04:00       1.65     12662.0  Germany  \n",
              "1115 2010-12-01 13:04:00       0.42     12662.0  Germany  \n",
              "1116 2010-12-01 13:04:00       1.95     12662.0  Germany  \n",
              "1117 2010-12-01 13:04:00       1.95     12662.0  Germany  \n",
              "1118 2010-12-01 13:04:00       4.65     12662.0  Germany  "
            ],
            "text/html": [
              "\n",
              "  <div id=\"df-d553bb30-4f70-4559-a95a-c3b2c33c9604\">\n",
              "    <div class=\"colab-df-container\">\n",
              "      <div>\n",
              "<style scoped>\n",
              "    .dataframe tbody tr th:only-of-type {\n",
              "        vertical-align: middle;\n",
              "    }\n",
              "\n",
              "    .dataframe tbody tr th {\n",
              "        vertical-align: top;\n",
              "    }\n",
              "\n",
              "    .dataframe thead th {\n",
              "        text-align: right;\n",
              "    }\n",
              "</style>\n",
              "<table border=\"1\" class=\"dataframe\">\n",
              "  <thead>\n",
              "    <tr style=\"text-align: right;\">\n",
              "      <th></th>\n",
              "      <th>InvoiceNo</th>\n",
              "      <th>StockCode</th>\n",
              "      <th>Description</th>\n",
              "      <th>Quantity</th>\n",
              "      <th>InvoiceDate</th>\n",
              "      <th>UnitPrice</th>\n",
              "      <th>CustomerID</th>\n",
              "      <th>Country</th>\n",
              "    </tr>\n",
              "  </thead>\n",
              "  <tbody>\n",
              "    <tr>\n",
              "      <th>1109</th>\n",
              "      <td>536527</td>\n",
              "      <td>22809</td>\n",
              "      <td>SET OF 6 T-LIGHTS SANTA</td>\n",
              "      <td>6</td>\n",
              "      <td>2010-12-01 13:04:00</td>\n",
              "      <td>2.95</td>\n",
              "      <td>12662.0</td>\n",
              "      <td>Germany</td>\n",
              "    </tr>\n",
              "    <tr>\n",
              "      <th>1110</th>\n",
              "      <td>536527</td>\n",
              "      <td>84347</td>\n",
              "      <td>ROTATING SILVER ANGELS T-LIGHT HLDR</td>\n",
              "      <td>6</td>\n",
              "      <td>2010-12-01 13:04:00</td>\n",
              "      <td>2.55</td>\n",
              "      <td>12662.0</td>\n",
              "      <td>Germany</td>\n",
              "    </tr>\n",
              "    <tr>\n",
              "      <th>1111</th>\n",
              "      <td>536527</td>\n",
              "      <td>84945</td>\n",
              "      <td>MULTI COLOUR SILVER T-LIGHT HOLDER</td>\n",
              "      <td>12</td>\n",
              "      <td>2010-12-01 13:04:00</td>\n",
              "      <td>0.85</td>\n",
              "      <td>12662.0</td>\n",
              "      <td>Germany</td>\n",
              "    </tr>\n",
              "    <tr>\n",
              "      <th>1112</th>\n",
              "      <td>536527</td>\n",
              "      <td>22242</td>\n",
              "      <td>5 HOOK HANGER MAGIC TOADSTOOL</td>\n",
              "      <td>12</td>\n",
              "      <td>2010-12-01 13:04:00</td>\n",
              "      <td>1.65</td>\n",
              "      <td>12662.0</td>\n",
              "      <td>Germany</td>\n",
              "    </tr>\n",
              "    <tr>\n",
              "      <th>1113</th>\n",
              "      <td>536527</td>\n",
              "      <td>22244</td>\n",
              "      <td>3 HOOK HANGER MAGIC GARDEN</td>\n",
              "      <td>12</td>\n",
              "      <td>2010-12-01 13:04:00</td>\n",
              "      <td>1.95</td>\n",
              "      <td>12662.0</td>\n",
              "      <td>Germany</td>\n",
              "    </tr>\n",
              "    <tr>\n",
              "      <th>1114</th>\n",
              "      <td>536527</td>\n",
              "      <td>22243</td>\n",
              "      <td>5 HOOK HANGER RED MAGIC TOADSTOOL</td>\n",
              "      <td>12</td>\n",
              "      <td>2010-12-01 13:04:00</td>\n",
              "      <td>1.65</td>\n",
              "      <td>12662.0</td>\n",
              "      <td>Germany</td>\n",
              "    </tr>\n",
              "    <tr>\n",
              "      <th>1115</th>\n",
              "      <td>536527</td>\n",
              "      <td>47421</td>\n",
              "      <td>ASSORTED COLOUR LIZARD SUCTION HOOK</td>\n",
              "      <td>24</td>\n",
              "      <td>2010-12-01 13:04:00</td>\n",
              "      <td>0.42</td>\n",
              "      <td>12662.0</td>\n",
              "      <td>Germany</td>\n",
              "    </tr>\n",
              "    <tr>\n",
              "      <th>1116</th>\n",
              "      <td>536527</td>\n",
              "      <td>20712</td>\n",
              "      <td>JUMBO BAG WOODLAND ANIMALS</td>\n",
              "      <td>10</td>\n",
              "      <td>2010-12-01 13:04:00</td>\n",
              "      <td>1.95</td>\n",
              "      <td>12662.0</td>\n",
              "      <td>Germany</td>\n",
              "    </tr>\n",
              "    <tr>\n",
              "      <th>1117</th>\n",
              "      <td>536527</td>\n",
              "      <td>20713</td>\n",
              "      <td>JUMBO BAG OWLS</td>\n",
              "      <td>10</td>\n",
              "      <td>2010-12-01 13:04:00</td>\n",
              "      <td>1.95</td>\n",
              "      <td>12662.0</td>\n",
              "      <td>Germany</td>\n",
              "    </tr>\n",
              "    <tr>\n",
              "      <th>1118</th>\n",
              "      <td>536527</td>\n",
              "      <td>22837</td>\n",
              "      <td>HOT WATER BOTTLE BABUSHKA</td>\n",
              "      <td>4</td>\n",
              "      <td>2010-12-01 13:04:00</td>\n",
              "      <td>4.65</td>\n",
              "      <td>12662.0</td>\n",
              "      <td>Germany</td>\n",
              "    </tr>\n",
              "  </tbody>\n",
              "</table>\n",
              "</div>\n",
              "      <button class=\"colab-df-convert\" onclick=\"convertToInteractive('df-d553bb30-4f70-4559-a95a-c3b2c33c9604')\"\n",
              "              title=\"Convert this dataframe to an interactive table.\"\n",
              "              style=\"display:none;\">\n",
              "        \n",
              "  <svg xmlns=\"http://www.w3.org/2000/svg\" height=\"24px\"viewBox=\"0 0 24 24\"\n",
              "       width=\"24px\">\n",
              "    <path d=\"M0 0h24v24H0V0z\" fill=\"none\"/>\n",
              "    <path d=\"M18.56 5.44l.94 2.06.94-2.06 2.06-.94-2.06-.94-.94-2.06-.94 2.06-2.06.94zm-11 1L8.5 8.5l.94-2.06 2.06-.94-2.06-.94L8.5 2.5l-.94 2.06-2.06.94zm10 10l.94 2.06.94-2.06 2.06-.94-2.06-.94-.94-2.06-.94 2.06-2.06.94z\"/><path d=\"M17.41 7.96l-1.37-1.37c-.4-.4-.92-.59-1.43-.59-.52 0-1.04.2-1.43.59L10.3 9.45l-7.72 7.72c-.78.78-.78 2.05 0 2.83L4 21.41c.39.39.9.59 1.41.59.51 0 1.02-.2 1.41-.59l7.78-7.78 2.81-2.81c.8-.78.8-2.07 0-2.86zM5.41 20L4 18.59l7.72-7.72 1.47 1.35L5.41 20z\"/>\n",
              "  </svg>\n",
              "      </button>\n",
              "      \n",
              "  <style>\n",
              "    .colab-df-container {\n",
              "      display:flex;\n",
              "      flex-wrap:wrap;\n",
              "      gap: 12px;\n",
              "    }\n",
              "\n",
              "    .colab-df-convert {\n",
              "      background-color: #E8F0FE;\n",
              "      border: none;\n",
              "      border-radius: 50%;\n",
              "      cursor: pointer;\n",
              "      display: none;\n",
              "      fill: #1967D2;\n",
              "      height: 32px;\n",
              "      padding: 0 0 0 0;\n",
              "      width: 32px;\n",
              "    }\n",
              "\n",
              "    .colab-df-convert:hover {\n",
              "      background-color: #E2EBFA;\n",
              "      box-shadow: 0px 1px 2px rgba(60, 64, 67, 0.3), 0px 1px 3px 1px rgba(60, 64, 67, 0.15);\n",
              "      fill: #174EA6;\n",
              "    }\n",
              "\n",
              "    [theme=dark] .colab-df-convert {\n",
              "      background-color: #3B4455;\n",
              "      fill: #D2E3FC;\n",
              "    }\n",
              "\n",
              "    [theme=dark] .colab-df-convert:hover {\n",
              "      background-color: #434B5C;\n",
              "      box-shadow: 0px 1px 3px 1px rgba(0, 0, 0, 0.15);\n",
              "      filter: drop-shadow(0px 1px 2px rgba(0, 0, 0, 0.3));\n",
              "      fill: #FFFFFF;\n",
              "    }\n",
              "  </style>\n",
              "\n",
              "      <script>\n",
              "        const buttonEl =\n",
              "          document.querySelector('#df-d553bb30-4f70-4559-a95a-c3b2c33c9604 button.colab-df-convert');\n",
              "        buttonEl.style.display =\n",
              "          google.colab.kernel.accessAllowed ? 'block' : 'none';\n",
              "\n",
              "        async function convertToInteractive(key) {\n",
              "          const element = document.querySelector('#df-d553bb30-4f70-4559-a95a-c3b2c33c9604');\n",
              "          const dataTable =\n",
              "            await google.colab.kernel.invokeFunction('convertToInteractive',\n",
              "                                                     [key], {});\n",
              "          if (!dataTable) return;\n",
              "\n",
              "          const docLinkHtml = 'Like what you see? Visit the ' +\n",
              "            '<a target=\"_blank\" href=https://colab.research.google.com/notebooks/data_table.ipynb>data table notebook</a>'\n",
              "            + ' to learn more about interactive tables.';\n",
              "          element.innerHTML = '';\n",
              "          dataTable['output_type'] = 'display_data';\n",
              "          await google.colab.output.renderOutput(dataTable, element);\n",
              "          const docLink = document.createElement('div');\n",
              "          docLink.innerHTML = docLinkHtml;\n",
              "          element.appendChild(docLink);\n",
              "        }\n",
              "      </script>\n",
              "    </div>\n",
              "  </div>\n",
              "  "
            ]
          },
          "metadata": {},
          "execution_count": 9
        }
      ]
    },
    {
      "cell_type": "code",
      "metadata": {
        "colab": {
          "base_uri": "https://localhost:8080/"
        },
        "id": "tkAuDaad3KnB",
        "outputId": "78cff7f7-d0da-4697-adb6-7f57f6f437d3"
      },
      "source": [
        "#strip out the extra spaces presened in the description for the dataset\n",
        "df1['Description'].str.strip()"
      ],
      "execution_count": 10,
      "outputs": [
        {
          "output_type": "execute_result",
          "data": {
            "text/plain": [
              "1109                  SET OF 6 T-LIGHTS SANTA\n",
              "1110      ROTATING SILVER ANGELS T-LIGHT HLDR\n",
              "1111       MULTI COLOUR SILVER T-LIGHT HOLDER\n",
              "1112            5 HOOK HANGER MAGIC TOADSTOOL\n",
              "1113               3 HOOK HANGER MAGIC GARDEN\n",
              "                         ...                 \n",
              "541801           SET OF 4 PANTRY JELLY MOULDS\n",
              "541802       PACK OF 20 NAPKINS PANTRY DESIGN\n",
              "541803          PACK OF 20 NAPKINS RED APPLES\n",
              "541804       JINGLE BELL HEART ANTIQUE SILVER\n",
              "541805             RIBBON REEL MAKING SNOWMEN\n",
              "Name: Description, Length: 9495, dtype: object"
            ]
          },
          "metadata": {},
          "execution_count": 10
        }
      ]
    },
    {
      "cell_type": "code",
      "metadata": {
        "id": "ELUdkVlC3iJC",
        "colab": {
          "base_uri": "https://localhost:8080/"
        },
        "outputId": "40c04369-4253-4dbb-8f7a-11b6778448df"
      },
      "source": [
        "df1['Description']=df1['Description'].str.strip()"
      ],
      "execution_count": 11,
      "outputs": [
        {
          "output_type": "stream",
          "name": "stderr",
          "text": [
            "/usr/local/lib/python3.7/dist-packages/ipykernel_launcher.py:1: SettingWithCopyWarning: \n",
            "A value is trying to be set on a copy of a slice from a DataFrame.\n",
            "Try using .loc[row_indexer,col_indexer] = value instead\n",
            "\n",
            "See the caveats in the documentation: https://pandas.pydata.org/pandas-docs/stable/user_guide/indexing.html#returning-a-view-versus-a-copy\n",
            "  \"\"\"Entry point for launching an IPython kernel.\n"
          ]
        }
      ]
    },
    {
      "cell_type": "code",
      "metadata": {
        "id": "Xxg_PUzG3keo"
      },
      "source": [
        "df2=df1['Description'].str.strip()"
      ],
      "execution_count": 12,
      "outputs": []
    },
    {
      "cell_type": "code",
      "metadata": {
        "colab": {
          "base_uri": "https://localhost:8080/"
        },
        "id": "VD4078ES3on5",
        "outputId": "d13f7379-1049-494c-a289-3faed3dc635c"
      },
      "source": [
        "df1['Description']=df2"
      ],
      "execution_count": 13,
      "outputs": [
        {
          "output_type": "stream",
          "name": "stderr",
          "text": [
            "/usr/local/lib/python3.7/dist-packages/ipykernel_launcher.py:1: SettingWithCopyWarning: \n",
            "A value is trying to be set on a copy of a slice from a DataFrame.\n",
            "Try using .loc[row_indexer,col_indexer] = value instead\n",
            "\n",
            "See the caveats in the documentation: https://pandas.pydata.org/pandas-docs/stable/user_guide/indexing.html#returning-a-view-versus-a-copy\n",
            "  \"\"\"Entry point for launching an IPython kernel.\n"
          ]
        }
      ]
    },
    {
      "cell_type": "code",
      "metadata": {
        "colab": {
          "base_uri": "https://localhost:8080/"
        },
        "id": "dlYc_7P53qo4",
        "outputId": "853c8938-0e7a-40c7-dd44-3be109877b5b"
      },
      "source": [
        "df2\n"
      ],
      "execution_count": 14,
      "outputs": [
        {
          "output_type": "execute_result",
          "data": {
            "text/plain": [
              "1109                  SET OF 6 T-LIGHTS SANTA\n",
              "1110      ROTATING SILVER ANGELS T-LIGHT HLDR\n",
              "1111       MULTI COLOUR SILVER T-LIGHT HOLDER\n",
              "1112            5 HOOK HANGER MAGIC TOADSTOOL\n",
              "1113               3 HOOK HANGER MAGIC GARDEN\n",
              "                         ...                 \n",
              "541801           SET OF 4 PANTRY JELLY MOULDS\n",
              "541802       PACK OF 20 NAPKINS PANTRY DESIGN\n",
              "541803          PACK OF 20 NAPKINS RED APPLES\n",
              "541804       JINGLE BELL HEART ANTIQUE SILVER\n",
              "541805             RIBBON REEL MAKING SNOWMEN\n",
              "Name: Description, Length: 9495, dtype: object"
            ]
          },
          "metadata": {},
          "execution_count": 14
        }
      ]
    },
    {
      "cell_type": "code",
      "metadata": {
        "id": "wYWooVm74BCW"
      },
      "source": [
        "#we can also remove some negative quantities.\n",
        "df1 = df1[df1.Quantity >0]"
      ],
      "execution_count": 15,
      "outputs": []
    },
    {
      "cell_type": "code",
      "metadata": {
        "colab": {
          "base_uri": "https://localhost:8080/",
          "height": 363
        },
        "id": "uZhMnfmI4KDY",
        "outputId": "8761c254-2777-4d26-e975-bfa78f345eb0"
      },
      "source": [
        "df1[df1.Country == 'Germany'].head(10)"
      ],
      "execution_count": 16,
      "outputs": [
        {
          "output_type": "execute_result",
          "data": {
            "text/plain": [
              "     InvoiceNo StockCode                          Description  Quantity  \\\n",
              "1109    536527     22809              SET OF 6 T-LIGHTS SANTA         6   \n",
              "1110    536527     84347  ROTATING SILVER ANGELS T-LIGHT HLDR         6   \n",
              "1111    536527     84945   MULTI COLOUR SILVER T-LIGHT HOLDER        12   \n",
              "1112    536527     22242        5 HOOK HANGER MAGIC TOADSTOOL        12   \n",
              "1113    536527     22244           3 HOOK HANGER MAGIC GARDEN        12   \n",
              "1114    536527     22243    5 HOOK HANGER RED MAGIC TOADSTOOL        12   \n",
              "1115    536527     47421  ASSORTED COLOUR LIZARD SUCTION HOOK        24   \n",
              "1116    536527     20712           JUMBO BAG WOODLAND ANIMALS        10   \n",
              "1117    536527     20713                       JUMBO BAG OWLS        10   \n",
              "1118    536527     22837            HOT WATER BOTTLE BABUSHKA         4   \n",
              "\n",
              "             InvoiceDate  UnitPrice  CustomerID  Country  \n",
              "1109 2010-12-01 13:04:00       2.95     12662.0  Germany  \n",
              "1110 2010-12-01 13:04:00       2.55     12662.0  Germany  \n",
              "1111 2010-12-01 13:04:00       0.85     12662.0  Germany  \n",
              "1112 2010-12-01 13:04:00       1.65     12662.0  Germany  \n",
              "1113 2010-12-01 13:04:00       1.95     12662.0  Germany  \n",
              "1114 2010-12-01 13:04:00       1.65     12662.0  Germany  \n",
              "1115 2010-12-01 13:04:00       0.42     12662.0  Germany  \n",
              "1116 2010-12-01 13:04:00       1.95     12662.0  Germany  \n",
              "1117 2010-12-01 13:04:00       1.95     12662.0  Germany  \n",
              "1118 2010-12-01 13:04:00       4.65     12662.0  Germany  "
            ],
            "text/html": [
              "\n",
              "  <div id=\"df-c272028c-053e-4cf1-908b-35f6e72286c5\">\n",
              "    <div class=\"colab-df-container\">\n",
              "      <div>\n",
              "<style scoped>\n",
              "    .dataframe tbody tr th:only-of-type {\n",
              "        vertical-align: middle;\n",
              "    }\n",
              "\n",
              "    .dataframe tbody tr th {\n",
              "        vertical-align: top;\n",
              "    }\n",
              "\n",
              "    .dataframe thead th {\n",
              "        text-align: right;\n",
              "    }\n",
              "</style>\n",
              "<table border=\"1\" class=\"dataframe\">\n",
              "  <thead>\n",
              "    <tr style=\"text-align: right;\">\n",
              "      <th></th>\n",
              "      <th>InvoiceNo</th>\n",
              "      <th>StockCode</th>\n",
              "      <th>Description</th>\n",
              "      <th>Quantity</th>\n",
              "      <th>InvoiceDate</th>\n",
              "      <th>UnitPrice</th>\n",
              "      <th>CustomerID</th>\n",
              "      <th>Country</th>\n",
              "    </tr>\n",
              "  </thead>\n",
              "  <tbody>\n",
              "    <tr>\n",
              "      <th>1109</th>\n",
              "      <td>536527</td>\n",
              "      <td>22809</td>\n",
              "      <td>SET OF 6 T-LIGHTS SANTA</td>\n",
              "      <td>6</td>\n",
              "      <td>2010-12-01 13:04:00</td>\n",
              "      <td>2.95</td>\n",
              "      <td>12662.0</td>\n",
              "      <td>Germany</td>\n",
              "    </tr>\n",
              "    <tr>\n",
              "      <th>1110</th>\n",
              "      <td>536527</td>\n",
              "      <td>84347</td>\n",
              "      <td>ROTATING SILVER ANGELS T-LIGHT HLDR</td>\n",
              "      <td>6</td>\n",
              "      <td>2010-12-01 13:04:00</td>\n",
              "      <td>2.55</td>\n",
              "      <td>12662.0</td>\n",
              "      <td>Germany</td>\n",
              "    </tr>\n",
              "    <tr>\n",
              "      <th>1111</th>\n",
              "      <td>536527</td>\n",
              "      <td>84945</td>\n",
              "      <td>MULTI COLOUR SILVER T-LIGHT HOLDER</td>\n",
              "      <td>12</td>\n",
              "      <td>2010-12-01 13:04:00</td>\n",
              "      <td>0.85</td>\n",
              "      <td>12662.0</td>\n",
              "      <td>Germany</td>\n",
              "    </tr>\n",
              "    <tr>\n",
              "      <th>1112</th>\n",
              "      <td>536527</td>\n",
              "      <td>22242</td>\n",
              "      <td>5 HOOK HANGER MAGIC TOADSTOOL</td>\n",
              "      <td>12</td>\n",
              "      <td>2010-12-01 13:04:00</td>\n",
              "      <td>1.65</td>\n",
              "      <td>12662.0</td>\n",
              "      <td>Germany</td>\n",
              "    </tr>\n",
              "    <tr>\n",
              "      <th>1113</th>\n",
              "      <td>536527</td>\n",
              "      <td>22244</td>\n",
              "      <td>3 HOOK HANGER MAGIC GARDEN</td>\n",
              "      <td>12</td>\n",
              "      <td>2010-12-01 13:04:00</td>\n",
              "      <td>1.95</td>\n",
              "      <td>12662.0</td>\n",
              "      <td>Germany</td>\n",
              "    </tr>\n",
              "    <tr>\n",
              "      <th>1114</th>\n",
              "      <td>536527</td>\n",
              "      <td>22243</td>\n",
              "      <td>5 HOOK HANGER RED MAGIC TOADSTOOL</td>\n",
              "      <td>12</td>\n",
              "      <td>2010-12-01 13:04:00</td>\n",
              "      <td>1.65</td>\n",
              "      <td>12662.0</td>\n",
              "      <td>Germany</td>\n",
              "    </tr>\n",
              "    <tr>\n",
              "      <th>1115</th>\n",
              "      <td>536527</td>\n",
              "      <td>47421</td>\n",
              "      <td>ASSORTED COLOUR LIZARD SUCTION HOOK</td>\n",
              "      <td>24</td>\n",
              "      <td>2010-12-01 13:04:00</td>\n",
              "      <td>0.42</td>\n",
              "      <td>12662.0</td>\n",
              "      <td>Germany</td>\n",
              "    </tr>\n",
              "    <tr>\n",
              "      <th>1116</th>\n",
              "      <td>536527</td>\n",
              "      <td>20712</td>\n",
              "      <td>JUMBO BAG WOODLAND ANIMALS</td>\n",
              "      <td>10</td>\n",
              "      <td>2010-12-01 13:04:00</td>\n",
              "      <td>1.95</td>\n",
              "      <td>12662.0</td>\n",
              "      <td>Germany</td>\n",
              "    </tr>\n",
              "    <tr>\n",
              "      <th>1117</th>\n",
              "      <td>536527</td>\n",
              "      <td>20713</td>\n",
              "      <td>JUMBO BAG OWLS</td>\n",
              "      <td>10</td>\n",
              "      <td>2010-12-01 13:04:00</td>\n",
              "      <td>1.95</td>\n",
              "      <td>12662.0</td>\n",
              "      <td>Germany</td>\n",
              "    </tr>\n",
              "    <tr>\n",
              "      <th>1118</th>\n",
              "      <td>536527</td>\n",
              "      <td>22837</td>\n",
              "      <td>HOT WATER BOTTLE BABUSHKA</td>\n",
              "      <td>4</td>\n",
              "      <td>2010-12-01 13:04:00</td>\n",
              "      <td>4.65</td>\n",
              "      <td>12662.0</td>\n",
              "      <td>Germany</td>\n",
              "    </tr>\n",
              "  </tbody>\n",
              "</table>\n",
              "</div>\n",
              "      <button class=\"colab-df-convert\" onclick=\"convertToInteractive('df-c272028c-053e-4cf1-908b-35f6e72286c5')\"\n",
              "              title=\"Convert this dataframe to an interactive table.\"\n",
              "              style=\"display:none;\">\n",
              "        \n",
              "  <svg xmlns=\"http://www.w3.org/2000/svg\" height=\"24px\"viewBox=\"0 0 24 24\"\n",
              "       width=\"24px\">\n",
              "    <path d=\"M0 0h24v24H0V0z\" fill=\"none\"/>\n",
              "    <path d=\"M18.56 5.44l.94 2.06.94-2.06 2.06-.94-2.06-.94-.94-2.06-.94 2.06-2.06.94zm-11 1L8.5 8.5l.94-2.06 2.06-.94-2.06-.94L8.5 2.5l-.94 2.06-2.06.94zm10 10l.94 2.06.94-2.06 2.06-.94-2.06-.94-.94-2.06-.94 2.06-2.06.94z\"/><path d=\"M17.41 7.96l-1.37-1.37c-.4-.4-.92-.59-1.43-.59-.52 0-1.04.2-1.43.59L10.3 9.45l-7.72 7.72c-.78.78-.78 2.05 0 2.83L4 21.41c.39.39.9.59 1.41.59.51 0 1.02-.2 1.41-.59l7.78-7.78 2.81-2.81c.8-.78.8-2.07 0-2.86zM5.41 20L4 18.59l7.72-7.72 1.47 1.35L5.41 20z\"/>\n",
              "  </svg>\n",
              "      </button>\n",
              "      \n",
              "  <style>\n",
              "    .colab-df-container {\n",
              "      display:flex;\n",
              "      flex-wrap:wrap;\n",
              "      gap: 12px;\n",
              "    }\n",
              "\n",
              "    .colab-df-convert {\n",
              "      background-color: #E8F0FE;\n",
              "      border: none;\n",
              "      border-radius: 50%;\n",
              "      cursor: pointer;\n",
              "      display: none;\n",
              "      fill: #1967D2;\n",
              "      height: 32px;\n",
              "      padding: 0 0 0 0;\n",
              "      width: 32px;\n",
              "    }\n",
              "\n",
              "    .colab-df-convert:hover {\n",
              "      background-color: #E2EBFA;\n",
              "      box-shadow: 0px 1px 2px rgba(60, 64, 67, 0.3), 0px 1px 3px 1px rgba(60, 64, 67, 0.15);\n",
              "      fill: #174EA6;\n",
              "    }\n",
              "\n",
              "    [theme=dark] .colab-df-convert {\n",
              "      background-color: #3B4455;\n",
              "      fill: #D2E3FC;\n",
              "    }\n",
              "\n",
              "    [theme=dark] .colab-df-convert:hover {\n",
              "      background-color: #434B5C;\n",
              "      box-shadow: 0px 1px 3px 1px rgba(0, 0, 0, 0.15);\n",
              "      filter: drop-shadow(0px 1px 2px rgba(0, 0, 0, 0.3));\n",
              "      fill: #FFFFFF;\n",
              "    }\n",
              "  </style>\n",
              "\n",
              "      <script>\n",
              "        const buttonEl =\n",
              "          document.querySelector('#df-c272028c-053e-4cf1-908b-35f6e72286c5 button.colab-df-convert');\n",
              "        buttonEl.style.display =\n",
              "          google.colab.kernel.accessAllowed ? 'block' : 'none';\n",
              "\n",
              "        async function convertToInteractive(key) {\n",
              "          const element = document.querySelector('#df-c272028c-053e-4cf1-908b-35f6e72286c5');\n",
              "          const dataTable =\n",
              "            await google.colab.kernel.invokeFunction('convertToInteractive',\n",
              "                                                     [key], {});\n",
              "          if (!dataTable) return;\n",
              "\n",
              "          const docLinkHtml = 'Like what you see? Visit the ' +\n",
              "            '<a target=\"_blank\" href=https://colab.research.google.com/notebooks/data_table.ipynb>data table notebook</a>'\n",
              "            + ' to learn more about interactive tables.';\n",
              "          element.innerHTML = '';\n",
              "          dataTable['output_type'] = 'display_data';\n",
              "          await google.colab.output.renderOutput(dataTable, element);\n",
              "          const docLink = document.createElement('div');\n",
              "          docLink.innerHTML = docLinkHtml;\n",
              "          element.appendChild(docLink);\n",
              "        }\n",
              "      </script>\n",
              "    </div>\n",
              "  </div>\n",
              "  "
            ]
          },
          "metadata": {},
          "execution_count": 16
        }
      ]
    },
    {
      "cell_type": "code",
      "metadata": {
        "id": "YnvMvBAu4O3-"
      },
      "source": [
        "# we need to fill zeros in any NAN Value if mentioned\n",
        "basket = pd.pivot_table(data=df1,index='InvoiceNo',columns='Description',values='Quantity', \\\n",
        "                        aggfunc='sum',fill_value=0)"
      ],
      "execution_count": 17,
      "outputs": []
    },
    {
      "cell_type": "code",
      "metadata": {
        "colab": {
          "base_uri": "https://localhost:8080/",
          "height": 418
        },
        "id": "B9O110uI4dvm",
        "outputId": "88035aa6-ae85-4ebd-f6f2-b2c6a120dafb"
      },
      "source": [
        "basket.head()"
      ],
      "execution_count": 18,
      "outputs": [
        {
          "output_type": "execute_result",
          "data": {
            "text/plain": [
              "Description  10 COLOUR SPACEBOY PEN  12 COLOURED PARTY BALLOONS  \\\n",
              "InvoiceNo                                                         \n",
              "536527                            0                           0   \n",
              "536840                            0                           0   \n",
              "536861                            0                           0   \n",
              "536967                            0                           0   \n",
              "536983                            0                           0   \n",
              "\n",
              "Description  12 IVORY ROSE PEG PLACE SETTINGS  \\\n",
              "InvoiceNo                                       \n",
              "536527                                      0   \n",
              "536840                                      0   \n",
              "536861                                      0   \n",
              "536967                                      0   \n",
              "536983                                      0   \n",
              "\n",
              "Description  12 MESSAGE CARDS WITH ENVELOPES  12 PENCIL SMALL TUBE WOODLAND  \\\n",
              "InvoiceNo                                                                     \n",
              "536527                                     0                              0   \n",
              "536840                                     0                              0   \n",
              "536861                                     0                              0   \n",
              "536967                                     0                              0   \n",
              "536983                                     0                              0   \n",
              "\n",
              "Description  12 PENCILS SMALL TUBE RED RETROSPOT  12 PENCILS SMALL TUBE SKULL  \\\n",
              "InvoiceNo                                                                       \n",
              "536527                                         0                            0   \n",
              "536840                                         0                            0   \n",
              "536861                                         0                            0   \n",
              "536967                                         0                            0   \n",
              "536983                                         0                            0   \n",
              "\n",
              "Description  12 PENCILS TALL TUBE POSY  12 PENCILS TALL TUBE RED RETROSPOT  \\\n",
              "InvoiceNo                                                                    \n",
              "536527                               0                                   0   \n",
              "536840                               0                                   0   \n",
              "536861                               0                                   0   \n",
              "536967                               0                                   0   \n",
              "536983                               0                                   0   \n",
              "\n",
              "Description  12 PENCILS TALL TUBE SKULLS  ...  YULETIDE IMAGES GIFT WRAP SET  \\\n",
              "InvoiceNo                                 ...                                  \n",
              "536527                                 0  ...                              0   \n",
              "536840                                 0  ...                              0   \n",
              "536861                                 0  ...                              0   \n",
              "536967                                 0  ...                              0   \n",
              "536983                                 0  ...                              0   \n",
              "\n",
              "Description  ZINC  HEART T-LIGHT HOLDER  ZINC  STAR T-LIGHT HOLDER  \\\n",
              "InvoiceNo                                                            \n",
              "536527                                0                          0   \n",
              "536840                                0                          0   \n",
              "536861                                0                          0   \n",
              "536967                                0                          0   \n",
              "536983                                0                          0   \n",
              "\n",
              "Description  ZINC BOX SIGN HOME  ZINC FOLKART SLEIGH BELLS  \\\n",
              "InvoiceNo                                                    \n",
              "536527                        0                          0   \n",
              "536840                        0                          0   \n",
              "536861                        0                          0   \n",
              "536967                        0                          0   \n",
              "536983                        0                          0   \n",
              "\n",
              "Description  ZINC HEART LATTICE T-LIGHT HOLDER  ZINC METAL HEART DECORATION  \\\n",
              "InvoiceNo                                                                     \n",
              "536527                                       0                            0   \n",
              "536840                                       0                            0   \n",
              "536861                                       0                            0   \n",
              "536967                                       0                            0   \n",
              "536983                                       0                            0   \n",
              "\n",
              "Description  ZINC T-LIGHT HOLDER STAR LARGE  ZINC T-LIGHT HOLDER STARS SMALL  \\\n",
              "InvoiceNo                                                                      \n",
              "536527                                    0                                0   \n",
              "536840                                    0                                0   \n",
              "536861                                    0                                0   \n",
              "536967                                    0                                0   \n",
              "536983                                    0                                0   \n",
              "\n",
              "Description  ZINC WILLIE WINKIE  CANDLE STICK  \n",
              "InvoiceNo                                      \n",
              "536527                                      0  \n",
              "536840                                      0  \n",
              "536861                                      0  \n",
              "536967                                      0  \n",
              "536983                                      0  \n",
              "\n",
              "[5 rows x 1695 columns]"
            ],
            "text/html": [
              "\n",
              "  <div id=\"df-3f5cf508-8166-44e7-a9fa-66dda8f1d7c5\">\n",
              "    <div class=\"colab-df-container\">\n",
              "      <div>\n",
              "<style scoped>\n",
              "    .dataframe tbody tr th:only-of-type {\n",
              "        vertical-align: middle;\n",
              "    }\n",
              "\n",
              "    .dataframe tbody tr th {\n",
              "        vertical-align: top;\n",
              "    }\n",
              "\n",
              "    .dataframe thead th {\n",
              "        text-align: right;\n",
              "    }\n",
              "</style>\n",
              "<table border=\"1\" class=\"dataframe\">\n",
              "  <thead>\n",
              "    <tr style=\"text-align: right;\">\n",
              "      <th>Description</th>\n",
              "      <th>10 COLOUR SPACEBOY PEN</th>\n",
              "      <th>12 COLOURED PARTY BALLOONS</th>\n",
              "      <th>12 IVORY ROSE PEG PLACE SETTINGS</th>\n",
              "      <th>12 MESSAGE CARDS WITH ENVELOPES</th>\n",
              "      <th>12 PENCIL SMALL TUBE WOODLAND</th>\n",
              "      <th>12 PENCILS SMALL TUBE RED RETROSPOT</th>\n",
              "      <th>12 PENCILS SMALL TUBE SKULL</th>\n",
              "      <th>12 PENCILS TALL TUBE POSY</th>\n",
              "      <th>12 PENCILS TALL TUBE RED RETROSPOT</th>\n",
              "      <th>12 PENCILS TALL TUBE SKULLS</th>\n",
              "      <th>...</th>\n",
              "      <th>YULETIDE IMAGES GIFT WRAP SET</th>\n",
              "      <th>ZINC  HEART T-LIGHT HOLDER</th>\n",
              "      <th>ZINC  STAR T-LIGHT HOLDER</th>\n",
              "      <th>ZINC BOX SIGN HOME</th>\n",
              "      <th>ZINC FOLKART SLEIGH BELLS</th>\n",
              "      <th>ZINC HEART LATTICE T-LIGHT HOLDER</th>\n",
              "      <th>ZINC METAL HEART DECORATION</th>\n",
              "      <th>ZINC T-LIGHT HOLDER STAR LARGE</th>\n",
              "      <th>ZINC T-LIGHT HOLDER STARS SMALL</th>\n",
              "      <th>ZINC WILLIE WINKIE  CANDLE STICK</th>\n",
              "    </tr>\n",
              "    <tr>\n",
              "      <th>InvoiceNo</th>\n",
              "      <th></th>\n",
              "      <th></th>\n",
              "      <th></th>\n",
              "      <th></th>\n",
              "      <th></th>\n",
              "      <th></th>\n",
              "      <th></th>\n",
              "      <th></th>\n",
              "      <th></th>\n",
              "      <th></th>\n",
              "      <th></th>\n",
              "      <th></th>\n",
              "      <th></th>\n",
              "      <th></th>\n",
              "      <th></th>\n",
              "      <th></th>\n",
              "      <th></th>\n",
              "      <th></th>\n",
              "      <th></th>\n",
              "      <th></th>\n",
              "      <th></th>\n",
              "    </tr>\n",
              "  </thead>\n",
              "  <tbody>\n",
              "    <tr>\n",
              "      <th>536527</th>\n",
              "      <td>0</td>\n",
              "      <td>0</td>\n",
              "      <td>0</td>\n",
              "      <td>0</td>\n",
              "      <td>0</td>\n",
              "      <td>0</td>\n",
              "      <td>0</td>\n",
              "      <td>0</td>\n",
              "      <td>0</td>\n",
              "      <td>0</td>\n",
              "      <td>...</td>\n",
              "      <td>0</td>\n",
              "      <td>0</td>\n",
              "      <td>0</td>\n",
              "      <td>0</td>\n",
              "      <td>0</td>\n",
              "      <td>0</td>\n",
              "      <td>0</td>\n",
              "      <td>0</td>\n",
              "      <td>0</td>\n",
              "      <td>0</td>\n",
              "    </tr>\n",
              "    <tr>\n",
              "      <th>536840</th>\n",
              "      <td>0</td>\n",
              "      <td>0</td>\n",
              "      <td>0</td>\n",
              "      <td>0</td>\n",
              "      <td>0</td>\n",
              "      <td>0</td>\n",
              "      <td>0</td>\n",
              "      <td>0</td>\n",
              "      <td>0</td>\n",
              "      <td>0</td>\n",
              "      <td>...</td>\n",
              "      <td>0</td>\n",
              "      <td>0</td>\n",
              "      <td>0</td>\n",
              "      <td>0</td>\n",
              "      <td>0</td>\n",
              "      <td>0</td>\n",
              "      <td>0</td>\n",
              "      <td>0</td>\n",
              "      <td>0</td>\n",
              "      <td>0</td>\n",
              "    </tr>\n",
              "    <tr>\n",
              "      <th>536861</th>\n",
              "      <td>0</td>\n",
              "      <td>0</td>\n",
              "      <td>0</td>\n",
              "      <td>0</td>\n",
              "      <td>0</td>\n",
              "      <td>0</td>\n",
              "      <td>0</td>\n",
              "      <td>0</td>\n",
              "      <td>0</td>\n",
              "      <td>0</td>\n",
              "      <td>...</td>\n",
              "      <td>0</td>\n",
              "      <td>0</td>\n",
              "      <td>0</td>\n",
              "      <td>0</td>\n",
              "      <td>0</td>\n",
              "      <td>0</td>\n",
              "      <td>0</td>\n",
              "      <td>0</td>\n",
              "      <td>0</td>\n",
              "      <td>0</td>\n",
              "    </tr>\n",
              "    <tr>\n",
              "      <th>536967</th>\n",
              "      <td>0</td>\n",
              "      <td>0</td>\n",
              "      <td>0</td>\n",
              "      <td>0</td>\n",
              "      <td>0</td>\n",
              "      <td>0</td>\n",
              "      <td>0</td>\n",
              "      <td>0</td>\n",
              "      <td>0</td>\n",
              "      <td>0</td>\n",
              "      <td>...</td>\n",
              "      <td>0</td>\n",
              "      <td>0</td>\n",
              "      <td>0</td>\n",
              "      <td>0</td>\n",
              "      <td>0</td>\n",
              "      <td>0</td>\n",
              "      <td>0</td>\n",
              "      <td>0</td>\n",
              "      <td>0</td>\n",
              "      <td>0</td>\n",
              "    </tr>\n",
              "    <tr>\n",
              "      <th>536983</th>\n",
              "      <td>0</td>\n",
              "      <td>0</td>\n",
              "      <td>0</td>\n",
              "      <td>0</td>\n",
              "      <td>0</td>\n",
              "      <td>0</td>\n",
              "      <td>0</td>\n",
              "      <td>0</td>\n",
              "      <td>0</td>\n",
              "      <td>0</td>\n",
              "      <td>...</td>\n",
              "      <td>0</td>\n",
              "      <td>0</td>\n",
              "      <td>0</td>\n",
              "      <td>0</td>\n",
              "      <td>0</td>\n",
              "      <td>0</td>\n",
              "      <td>0</td>\n",
              "      <td>0</td>\n",
              "      <td>0</td>\n",
              "      <td>0</td>\n",
              "    </tr>\n",
              "  </tbody>\n",
              "</table>\n",
              "<p>5 rows × 1695 columns</p>\n",
              "</div>\n",
              "      <button class=\"colab-df-convert\" onclick=\"convertToInteractive('df-3f5cf508-8166-44e7-a9fa-66dda8f1d7c5')\"\n",
              "              title=\"Convert this dataframe to an interactive table.\"\n",
              "              style=\"display:none;\">\n",
              "        \n",
              "  <svg xmlns=\"http://www.w3.org/2000/svg\" height=\"24px\"viewBox=\"0 0 24 24\"\n",
              "       width=\"24px\">\n",
              "    <path d=\"M0 0h24v24H0V0z\" fill=\"none\"/>\n",
              "    <path d=\"M18.56 5.44l.94 2.06.94-2.06 2.06-.94-2.06-.94-.94-2.06-.94 2.06-2.06.94zm-11 1L8.5 8.5l.94-2.06 2.06-.94-2.06-.94L8.5 2.5l-.94 2.06-2.06.94zm10 10l.94 2.06.94-2.06 2.06-.94-2.06-.94-.94-2.06-.94 2.06-2.06.94z\"/><path d=\"M17.41 7.96l-1.37-1.37c-.4-.4-.92-.59-1.43-.59-.52 0-1.04.2-1.43.59L10.3 9.45l-7.72 7.72c-.78.78-.78 2.05 0 2.83L4 21.41c.39.39.9.59 1.41.59.51 0 1.02-.2 1.41-.59l7.78-7.78 2.81-2.81c.8-.78.8-2.07 0-2.86zM5.41 20L4 18.59l7.72-7.72 1.47 1.35L5.41 20z\"/>\n",
              "  </svg>\n",
              "      </button>\n",
              "      \n",
              "  <style>\n",
              "    .colab-df-container {\n",
              "      display:flex;\n",
              "      flex-wrap:wrap;\n",
              "      gap: 12px;\n",
              "    }\n",
              "\n",
              "    .colab-df-convert {\n",
              "      background-color: #E8F0FE;\n",
              "      border: none;\n",
              "      border-radius: 50%;\n",
              "      cursor: pointer;\n",
              "      display: none;\n",
              "      fill: #1967D2;\n",
              "      height: 32px;\n",
              "      padding: 0 0 0 0;\n",
              "      width: 32px;\n",
              "    }\n",
              "\n",
              "    .colab-df-convert:hover {\n",
              "      background-color: #E2EBFA;\n",
              "      box-shadow: 0px 1px 2px rgba(60, 64, 67, 0.3), 0px 1px 3px 1px rgba(60, 64, 67, 0.15);\n",
              "      fill: #174EA6;\n",
              "    }\n",
              "\n",
              "    [theme=dark] .colab-df-convert {\n",
              "      background-color: #3B4455;\n",
              "      fill: #D2E3FC;\n",
              "    }\n",
              "\n",
              "    [theme=dark] .colab-df-convert:hover {\n",
              "      background-color: #434B5C;\n",
              "      box-shadow: 0px 1px 3px 1px rgba(0, 0, 0, 0.15);\n",
              "      filter: drop-shadow(0px 1px 2px rgba(0, 0, 0, 0.3));\n",
              "      fill: #FFFFFF;\n",
              "    }\n",
              "  </style>\n",
              "\n",
              "      <script>\n",
              "        const buttonEl =\n",
              "          document.querySelector('#df-3f5cf508-8166-44e7-a9fa-66dda8f1d7c5 button.colab-df-convert');\n",
              "        buttonEl.style.display =\n",
              "          google.colab.kernel.accessAllowed ? 'block' : 'none';\n",
              "\n",
              "        async function convertToInteractive(key) {\n",
              "          const element = document.querySelector('#df-3f5cf508-8166-44e7-a9fa-66dda8f1d7c5');\n",
              "          const dataTable =\n",
              "            await google.colab.kernel.invokeFunction('convertToInteractive',\n",
              "                                                     [key], {});\n",
              "          if (!dataTable) return;\n",
              "\n",
              "          const docLinkHtml = 'Like what you see? Visit the ' +\n",
              "            '<a target=\"_blank\" href=https://colab.research.google.com/notebooks/data_table.ipynb>data table notebook</a>'\n",
              "            + ' to learn more about interactive tables.';\n",
              "          element.innerHTML = '';\n",
              "          dataTable['output_type'] = 'display_data';\n",
              "          await google.colab.output.renderOutput(dataTable, element);\n",
              "          const docLink = document.createElement('div');\n",
              "          docLink.innerHTML = docLinkHtml;\n",
              "          element.appendChild(docLink);\n",
              "        }\n",
              "      </script>\n",
              "    </div>\n",
              "  </div>\n",
              "  "
            ]
          },
          "metadata": {},
          "execution_count": 18
        }
      ]
    },
    {
      "cell_type": "code",
      "metadata": {
        "colab": {
          "base_uri": "https://localhost:8080/"
        },
        "id": "u2tSMoCC4gRm",
        "outputId": "8da25d35-75f3-4381-882d-5b445615977b"
      },
      "source": [
        "#this to check correctness after binning it to 1 at below code..\n",
        "basket['MULTI COLOUR SILVER T-LIGHT HOLDER'].head(10)"
      ],
      "execution_count": 19,
      "outputs": [
        {
          "output_type": "execute_result",
          "data": {
            "text/plain": [
              "InvoiceNo\n",
              "536527    12\n",
              "536840     0\n",
              "536861     0\n",
              "536967     0\n",
              "536983     0\n",
              "537197     0\n",
              "537198     0\n",
              "537201     0\n",
              "537212     0\n",
              "537250     0\n",
              "Name: MULTI COLOUR SILVER T-LIGHT HOLDER, dtype: int64"
            ]
          },
          "metadata": {},
          "execution_count": 19
        }
      ]
    },
    {
      "cell_type": "code",
      "metadata": {
        "id": "b_rO-PAl4xun"
      },
      "source": [
        "#we can now use binary to represent if a person has taken the item or not\n",
        "def convert_into_binary(x):\n",
        "    if x > 0:\n",
        "        return 1\n",
        "    else:\n",
        "        return 0"
      ],
      "execution_count": 20,
      "outputs": []
    },
    {
      "cell_type": "code",
      "metadata": {
        "id": "UIoCD88a5Fan"
      },
      "source": [
        "basket_sets = basket.applymap(convert_into_binary)"
      ],
      "execution_count": 21,
      "outputs": []
    },
    {
      "cell_type": "code",
      "metadata": {
        "colab": {
          "base_uri": "https://localhost:8080/"
        },
        "id": "F3IPnhvk5IMW",
        "outputId": "8281673f-ff4a-4695-eb98-bfd0a9550db9"
      },
      "source": [
        "basket_sets['MULTI COLOUR SILVER T-LIGHT HOLDER'].head()"
      ],
      "execution_count": 22,
      "outputs": [
        {
          "output_type": "execute_result",
          "data": {
            "text/plain": [
              "InvoiceNo\n",
              "536527    1\n",
              "536840    0\n",
              "536861    0\n",
              "536967    0\n",
              "536983    0\n",
              "Name: MULTI COLOUR SILVER T-LIGHT HOLDER, dtype: int64"
            ]
          },
          "metadata": {},
          "execution_count": 22
        }
      ]
    },
    {
      "cell_type": "markdown",
      "metadata": {
        "id": "-SZ0iLn_5cJ4"
      },
      "source": [
        "We are now getting a zero or 1 for the quantity that is being purchased\n",
        "\n"
      ]
    },
    {
      "cell_type": "code",
      "metadata": {
        "colab": {
          "base_uri": "https://localhost:8080/"
        },
        "id": "zHmROSYt5MBV",
        "outputId": "a2038a9c-bc12-4c77-b362-0c0bd0af470e"
      },
      "source": [
        "basket_sets['MULTI COLOUR SILVER T-LIGHT HOLDER']"
      ],
      "execution_count": 23,
      "outputs": [
        {
          "output_type": "execute_result",
          "data": {
            "text/plain": [
              "InvoiceNo\n",
              "536527    1\n",
              "536840    0\n",
              "536861    0\n",
              "536967    0\n",
              "536983    0\n",
              "         ..\n",
              "581266    0\n",
              "581494    0\n",
              "581570    0\n",
              "581574    0\n",
              "581578    0\n",
              "Name: MULTI COLOUR SILVER T-LIGHT HOLDER, Length: 457, dtype: int64"
            ]
          },
          "metadata": {},
          "execution_count": 23
        }
      ]
    },
    {
      "cell_type": "code",
      "metadata": {
        "id": "A90Y3B5z5Pql"
      },
      "source": [
        "#remove postage item as it is just a seal which almost all transaction contain. \n",
        "basket_sets.drop(columns=['POSTAGE'],inplace=True)"
      ],
      "execution_count": 24,
      "outputs": []
    },
    {
      "cell_type": "markdown",
      "metadata": {
        "id": "CimKuPiF5sdu"
      },
      "source": [
        "*We* now try to use the apriori functions for the solution. We call apriori function and pass minimum support here we are passing 7%. means 7 times in total number of transaction that item was present."
      ]
    },
    {
      "cell_type": "code",
      "metadata": {
        "id": "G1AAGd2T5oQV"
      },
      "source": [
        "frequent_itemsets = apriori(basket_sets, min_support=0.06, use_colnames=True)"
      ],
      "execution_count": 25,
      "outputs": []
    },
    {
      "cell_type": "code",
      "metadata": {
        "colab": {
          "base_uri": "https://localhost:8080/",
          "height": 1000
        },
        "id": "PIqDfF_m51tB",
        "outputId": "81d89ab7-a2e7-4900-95a9-8a5b1c062fd6"
      },
      "source": [
        "#it will generate frequent itemsets using two step approch\n",
        "frequent_itemsets"
      ],
      "execution_count": 26,
      "outputs": [
        {
          "output_type": "execute_result",
          "data": {
            "text/plain": [
              "     support                                           itemsets\n",
              "0   0.102845                           (6 RIBBONS RUSTIC CHARM)\n",
              "1   0.070022                        (ALARM CLOCK BAKELIKE PINK)\n",
              "2   0.065646                      (CHARLOTTE BAG APPLES DESIGN)\n",
              "3   0.061269                         (COFFEE MUG APPLES DESIGN)\n",
              "4   0.063457                       (FAWN BLUE HOT WATER BOTTLE)\n",
              "5   0.072210                                (GUMBALL COAT RACK)\n",
              "6   0.063457                            (JAM JAR WITH PINK LID)\n",
              "7   0.091904                           (JAM MAKING SET PRINTED)\n",
              "8   0.061269                                 (JUMBO BAG APPLES)\n",
              "9   0.078775                          (JUMBO BAG RED RETROSPOT)\n",
              "10  0.100656                       (JUMBO BAG WOODLAND ANIMALS)\n",
              "11  0.061269                           (LUNCH BAG APPLE DESIGN)\n",
              "12  0.078775                               (LUNCH BAG WOODLAND)\n",
              "13  0.063457                 (LUNCH BOX WITH CUTLERY RETROSPOT)\n",
              "14  0.061269                 (PACK OF 20 NAPKINS PANTRY DESIGN)\n",
              "15  0.085339                  (PACK OF 72 RETROSPOT CAKE CASES)\n",
              "16  0.115974                    (PLASTERS IN TIN CIRCUS PARADE)\n",
              "17  0.107221                         (PLASTERS IN TIN SPACEBOY)\n",
              "18  0.070022                        (PLASTERS IN TIN STRONGMAN)\n",
              "19  0.137856                 (PLASTERS IN TIN WOODLAND ANIMALS)\n",
              "20  0.070022                      (RED RETROSPOT CHARLOTTE BAG)\n",
              "21  0.070022                                (RED RETROSPOT CUP)\n",
              "22  0.065646                         (RED RETROSPOT MINI CASES)\n",
              "23  0.096280                    (RED TOADSTOOL LED NIGHT LIGHT)\n",
              "24  0.137856                         (REGENCY CAKESTAND 3 TIER)\n",
              "25  0.061269                (RETROSPOT PARTY BAG + STICKER SET)\n",
              "26  0.157549                (ROUND SNACK BOXES SET OF 4 FRUITS)\n",
              "27  0.245077               (ROUND SNACK BOXES SET OF4 WOODLAND)\n",
              "28  0.070022                       (SET OF 3 REGENCY CAKE TINS)\n",
              "29  0.102845                               (SPACEBOY LUNCH BOX)\n",
              "30  0.078775                (STRAWBERRY LUNCH BOX WITH CUTLERY)\n",
              "31  0.126915                           (WOODLAND CHARLOTTE BAG)\n",
              "32  0.067834                 (WOODLAND PARTY BAG + STICKER SET)\n",
              "33  0.067834  (PLASTERS IN TIN CIRCUS PARADE, PLASTERS IN TI...\n",
              "34  0.061269  (PLASTERS IN TIN WOODLAND ANIMALS, PLASTERS IN...\n",
              "35  0.074398  (PLASTERS IN TIN WOODLAND ANIMALS, ROUND SNACK...\n",
              "36  0.131291  (ROUND SNACK BOXES SET OF4 WOODLAND, ROUND SNA...\n",
              "37  0.070022  (ROUND SNACK BOXES SET OF4 WOODLAND, SPACEBOY ...\n",
              "38  0.063457  (ROUND SNACK BOXES SET OF4 WOODLAND, WOODLAND ..."
            ],
            "text/html": [
              "\n",
              "  <div id=\"df-699e8096-f9ad-4419-840f-9fe8bb59f371\">\n",
              "    <div class=\"colab-df-container\">\n",
              "      <div>\n",
              "<style scoped>\n",
              "    .dataframe tbody tr th:only-of-type {\n",
              "        vertical-align: middle;\n",
              "    }\n",
              "\n",
              "    .dataframe tbody tr th {\n",
              "        vertical-align: top;\n",
              "    }\n",
              "\n",
              "    .dataframe thead th {\n",
              "        text-align: right;\n",
              "    }\n",
              "</style>\n",
              "<table border=\"1\" class=\"dataframe\">\n",
              "  <thead>\n",
              "    <tr style=\"text-align: right;\">\n",
              "      <th></th>\n",
              "      <th>support</th>\n",
              "      <th>itemsets</th>\n",
              "    </tr>\n",
              "  </thead>\n",
              "  <tbody>\n",
              "    <tr>\n",
              "      <th>0</th>\n",
              "      <td>0.102845</td>\n",
              "      <td>(6 RIBBONS RUSTIC CHARM)</td>\n",
              "    </tr>\n",
              "    <tr>\n",
              "      <th>1</th>\n",
              "      <td>0.070022</td>\n",
              "      <td>(ALARM CLOCK BAKELIKE PINK)</td>\n",
              "    </tr>\n",
              "    <tr>\n",
              "      <th>2</th>\n",
              "      <td>0.065646</td>\n",
              "      <td>(CHARLOTTE BAG APPLES DESIGN)</td>\n",
              "    </tr>\n",
              "    <tr>\n",
              "      <th>3</th>\n",
              "      <td>0.061269</td>\n",
              "      <td>(COFFEE MUG APPLES DESIGN)</td>\n",
              "    </tr>\n",
              "    <tr>\n",
              "      <th>4</th>\n",
              "      <td>0.063457</td>\n",
              "      <td>(FAWN BLUE HOT WATER BOTTLE)</td>\n",
              "    </tr>\n",
              "    <tr>\n",
              "      <th>5</th>\n",
              "      <td>0.072210</td>\n",
              "      <td>(GUMBALL COAT RACK)</td>\n",
              "    </tr>\n",
              "    <tr>\n",
              "      <th>6</th>\n",
              "      <td>0.063457</td>\n",
              "      <td>(JAM JAR WITH PINK LID)</td>\n",
              "    </tr>\n",
              "    <tr>\n",
              "      <th>7</th>\n",
              "      <td>0.091904</td>\n",
              "      <td>(JAM MAKING SET PRINTED)</td>\n",
              "    </tr>\n",
              "    <tr>\n",
              "      <th>8</th>\n",
              "      <td>0.061269</td>\n",
              "      <td>(JUMBO BAG APPLES)</td>\n",
              "    </tr>\n",
              "    <tr>\n",
              "      <th>9</th>\n",
              "      <td>0.078775</td>\n",
              "      <td>(JUMBO BAG RED RETROSPOT)</td>\n",
              "    </tr>\n",
              "    <tr>\n",
              "      <th>10</th>\n",
              "      <td>0.100656</td>\n",
              "      <td>(JUMBO BAG WOODLAND ANIMALS)</td>\n",
              "    </tr>\n",
              "    <tr>\n",
              "      <th>11</th>\n",
              "      <td>0.061269</td>\n",
              "      <td>(LUNCH BAG APPLE DESIGN)</td>\n",
              "    </tr>\n",
              "    <tr>\n",
              "      <th>12</th>\n",
              "      <td>0.078775</td>\n",
              "      <td>(LUNCH BAG WOODLAND)</td>\n",
              "    </tr>\n",
              "    <tr>\n",
              "      <th>13</th>\n",
              "      <td>0.063457</td>\n",
              "      <td>(LUNCH BOX WITH CUTLERY RETROSPOT)</td>\n",
              "    </tr>\n",
              "    <tr>\n",
              "      <th>14</th>\n",
              "      <td>0.061269</td>\n",
              "      <td>(PACK OF 20 NAPKINS PANTRY DESIGN)</td>\n",
              "    </tr>\n",
              "    <tr>\n",
              "      <th>15</th>\n",
              "      <td>0.085339</td>\n",
              "      <td>(PACK OF 72 RETROSPOT CAKE CASES)</td>\n",
              "    </tr>\n",
              "    <tr>\n",
              "      <th>16</th>\n",
              "      <td>0.115974</td>\n",
              "      <td>(PLASTERS IN TIN CIRCUS PARADE)</td>\n",
              "    </tr>\n",
              "    <tr>\n",
              "      <th>17</th>\n",
              "      <td>0.107221</td>\n",
              "      <td>(PLASTERS IN TIN SPACEBOY)</td>\n",
              "    </tr>\n",
              "    <tr>\n",
              "      <th>18</th>\n",
              "      <td>0.070022</td>\n",
              "      <td>(PLASTERS IN TIN STRONGMAN)</td>\n",
              "    </tr>\n",
              "    <tr>\n",
              "      <th>19</th>\n",
              "      <td>0.137856</td>\n",
              "      <td>(PLASTERS IN TIN WOODLAND ANIMALS)</td>\n",
              "    </tr>\n",
              "    <tr>\n",
              "      <th>20</th>\n",
              "      <td>0.070022</td>\n",
              "      <td>(RED RETROSPOT CHARLOTTE BAG)</td>\n",
              "    </tr>\n",
              "    <tr>\n",
              "      <th>21</th>\n",
              "      <td>0.070022</td>\n",
              "      <td>(RED RETROSPOT CUP)</td>\n",
              "    </tr>\n",
              "    <tr>\n",
              "      <th>22</th>\n",
              "      <td>0.065646</td>\n",
              "      <td>(RED RETROSPOT MINI CASES)</td>\n",
              "    </tr>\n",
              "    <tr>\n",
              "      <th>23</th>\n",
              "      <td>0.096280</td>\n",
              "      <td>(RED TOADSTOOL LED NIGHT LIGHT)</td>\n",
              "    </tr>\n",
              "    <tr>\n",
              "      <th>24</th>\n",
              "      <td>0.137856</td>\n",
              "      <td>(REGENCY CAKESTAND 3 TIER)</td>\n",
              "    </tr>\n",
              "    <tr>\n",
              "      <th>25</th>\n",
              "      <td>0.061269</td>\n",
              "      <td>(RETROSPOT PARTY BAG + STICKER SET)</td>\n",
              "    </tr>\n",
              "    <tr>\n",
              "      <th>26</th>\n",
              "      <td>0.157549</td>\n",
              "      <td>(ROUND SNACK BOXES SET OF 4 FRUITS)</td>\n",
              "    </tr>\n",
              "    <tr>\n",
              "      <th>27</th>\n",
              "      <td>0.245077</td>\n",
              "      <td>(ROUND SNACK BOXES SET OF4 WOODLAND)</td>\n",
              "    </tr>\n",
              "    <tr>\n",
              "      <th>28</th>\n",
              "      <td>0.070022</td>\n",
              "      <td>(SET OF 3 REGENCY CAKE TINS)</td>\n",
              "    </tr>\n",
              "    <tr>\n",
              "      <th>29</th>\n",
              "      <td>0.102845</td>\n",
              "      <td>(SPACEBOY LUNCH BOX)</td>\n",
              "    </tr>\n",
              "    <tr>\n",
              "      <th>30</th>\n",
              "      <td>0.078775</td>\n",
              "      <td>(STRAWBERRY LUNCH BOX WITH CUTLERY)</td>\n",
              "    </tr>\n",
              "    <tr>\n",
              "      <th>31</th>\n",
              "      <td>0.126915</td>\n",
              "      <td>(WOODLAND CHARLOTTE BAG)</td>\n",
              "    </tr>\n",
              "    <tr>\n",
              "      <th>32</th>\n",
              "      <td>0.067834</td>\n",
              "      <td>(WOODLAND PARTY BAG + STICKER SET)</td>\n",
              "    </tr>\n",
              "    <tr>\n",
              "      <th>33</th>\n",
              "      <td>0.067834</td>\n",
              "      <td>(PLASTERS IN TIN CIRCUS PARADE, PLASTERS IN TI...</td>\n",
              "    </tr>\n",
              "    <tr>\n",
              "      <th>34</th>\n",
              "      <td>0.061269</td>\n",
              "      <td>(PLASTERS IN TIN WOODLAND ANIMALS, PLASTERS IN...</td>\n",
              "    </tr>\n",
              "    <tr>\n",
              "      <th>35</th>\n",
              "      <td>0.074398</td>\n",
              "      <td>(PLASTERS IN TIN WOODLAND ANIMALS, ROUND SNACK...</td>\n",
              "    </tr>\n",
              "    <tr>\n",
              "      <th>36</th>\n",
              "      <td>0.131291</td>\n",
              "      <td>(ROUND SNACK BOXES SET OF4 WOODLAND, ROUND SNA...</td>\n",
              "    </tr>\n",
              "    <tr>\n",
              "      <th>37</th>\n",
              "      <td>0.070022</td>\n",
              "      <td>(ROUND SNACK BOXES SET OF4 WOODLAND, SPACEBOY ...</td>\n",
              "    </tr>\n",
              "    <tr>\n",
              "      <th>38</th>\n",
              "      <td>0.063457</td>\n",
              "      <td>(ROUND SNACK BOXES SET OF4 WOODLAND, WOODLAND ...</td>\n",
              "    </tr>\n",
              "  </tbody>\n",
              "</table>\n",
              "</div>\n",
              "      <button class=\"colab-df-convert\" onclick=\"convertToInteractive('df-699e8096-f9ad-4419-840f-9fe8bb59f371')\"\n",
              "              title=\"Convert this dataframe to an interactive table.\"\n",
              "              style=\"display:none;\">\n",
              "        \n",
              "  <svg xmlns=\"http://www.w3.org/2000/svg\" height=\"24px\"viewBox=\"0 0 24 24\"\n",
              "       width=\"24px\">\n",
              "    <path d=\"M0 0h24v24H0V0z\" fill=\"none\"/>\n",
              "    <path d=\"M18.56 5.44l.94 2.06.94-2.06 2.06-.94-2.06-.94-.94-2.06-.94 2.06-2.06.94zm-11 1L8.5 8.5l.94-2.06 2.06-.94-2.06-.94L8.5 2.5l-.94 2.06-2.06.94zm10 10l.94 2.06.94-2.06 2.06-.94-2.06-.94-.94-2.06-.94 2.06-2.06.94z\"/><path d=\"M17.41 7.96l-1.37-1.37c-.4-.4-.92-.59-1.43-.59-.52 0-1.04.2-1.43.59L10.3 9.45l-7.72 7.72c-.78.78-.78 2.05 0 2.83L4 21.41c.39.39.9.59 1.41.59.51 0 1.02-.2 1.41-.59l7.78-7.78 2.81-2.81c.8-.78.8-2.07 0-2.86zM5.41 20L4 18.59l7.72-7.72 1.47 1.35L5.41 20z\"/>\n",
              "  </svg>\n",
              "      </button>\n",
              "      \n",
              "  <style>\n",
              "    .colab-df-container {\n",
              "      display:flex;\n",
              "      flex-wrap:wrap;\n",
              "      gap: 12px;\n",
              "    }\n",
              "\n",
              "    .colab-df-convert {\n",
              "      background-color: #E8F0FE;\n",
              "      border: none;\n",
              "      border-radius: 50%;\n",
              "      cursor: pointer;\n",
              "      display: none;\n",
              "      fill: #1967D2;\n",
              "      height: 32px;\n",
              "      padding: 0 0 0 0;\n",
              "      width: 32px;\n",
              "    }\n",
              "\n",
              "    .colab-df-convert:hover {\n",
              "      background-color: #E2EBFA;\n",
              "      box-shadow: 0px 1px 2px rgba(60, 64, 67, 0.3), 0px 1px 3px 1px rgba(60, 64, 67, 0.15);\n",
              "      fill: #174EA6;\n",
              "    }\n",
              "\n",
              "    [theme=dark] .colab-df-convert {\n",
              "      background-color: #3B4455;\n",
              "      fill: #D2E3FC;\n",
              "    }\n",
              "\n",
              "    [theme=dark] .colab-df-convert:hover {\n",
              "      background-color: #434B5C;\n",
              "      box-shadow: 0px 1px 3px 1px rgba(0, 0, 0, 0.15);\n",
              "      filter: drop-shadow(0px 1px 2px rgba(0, 0, 0, 0.3));\n",
              "      fill: #FFFFFF;\n",
              "    }\n",
              "  </style>\n",
              "\n",
              "      <script>\n",
              "        const buttonEl =\n",
              "          document.querySelector('#df-699e8096-f9ad-4419-840f-9fe8bb59f371 button.colab-df-convert');\n",
              "        buttonEl.style.display =\n",
              "          google.colab.kernel.accessAllowed ? 'block' : 'none';\n",
              "\n",
              "        async function convertToInteractive(key) {\n",
              "          const element = document.querySelector('#df-699e8096-f9ad-4419-840f-9fe8bb59f371');\n",
              "          const dataTable =\n",
              "            await google.colab.kernel.invokeFunction('convertToInteractive',\n",
              "                                                     [key], {});\n",
              "          if (!dataTable) return;\n",
              "\n",
              "          const docLinkHtml = 'Like what you see? Visit the ' +\n",
              "            '<a target=\"_blank\" href=https://colab.research.google.com/notebooks/data_table.ipynb>data table notebook</a>'\n",
              "            + ' to learn more about interactive tables.';\n",
              "          element.innerHTML = '';\n",
              "          dataTable['output_type'] = 'display_data';\n",
              "          await google.colab.output.renderOutput(dataTable, element);\n",
              "          const docLink = document.createElement('div');\n",
              "          docLink.innerHTML = docLinkHtml;\n",
              "          element.appendChild(docLink);\n",
              "        }\n",
              "      </script>\n",
              "    </div>\n",
              "  </div>\n",
              "  "
            ]
          },
          "metadata": {},
          "execution_count": 26
        }
      ]
    },
    {
      "cell_type": "code",
      "metadata": {
        "colab": {
          "base_uri": "https://localhost:8080/",
          "height": 354
        },
        "id": "TNI2nPkX55PW",
        "outputId": "1c6f482d-5665-4065-9f57-95a97ac2fbdd"
      },
      "source": [
        "# we have association rules which need to put on frequent itemset. here we are setting based on lift and has minimum lift as 1\n",
        "rules_mlxtend = association_rules(frequent_itemsets, metric=\"lift\", min_threshold=1)\n",
        "rules_mlxtend.head()"
      ],
      "execution_count": 27,
      "outputs": [
        {
          "output_type": "execute_result",
          "data": {
            "text/plain": [
              "                          antecedents                           consequents  \\\n",
              "0     (PLASTERS IN TIN CIRCUS PARADE)    (PLASTERS IN TIN WOODLAND ANIMALS)   \n",
              "1  (PLASTERS IN TIN WOODLAND ANIMALS)       (PLASTERS IN TIN CIRCUS PARADE)   \n",
              "2  (PLASTERS IN TIN WOODLAND ANIMALS)            (PLASTERS IN TIN SPACEBOY)   \n",
              "3          (PLASTERS IN TIN SPACEBOY)    (PLASTERS IN TIN WOODLAND ANIMALS)   \n",
              "4  (PLASTERS IN TIN WOODLAND ANIMALS)  (ROUND SNACK BOXES SET OF4 WOODLAND)   \n",
              "\n",
              "   antecedent support  consequent support   support  confidence      lift  \\\n",
              "0            0.115974            0.137856  0.067834    0.584906  4.242887   \n",
              "1            0.137856            0.115974  0.067834    0.492063  4.242887   \n",
              "2            0.137856            0.107221  0.061269    0.444444  4.145125   \n",
              "3            0.107221            0.137856  0.061269    0.571429  4.145125   \n",
              "4            0.137856            0.245077  0.074398    0.539683  2.202098   \n",
              "\n",
              "   leverage  conviction  \n",
              "0  0.051846    2.076984  \n",
              "1  0.051846    1.740427  \n",
              "2  0.046488    1.607002  \n",
              "3  0.046488    2.011670  \n",
              "4  0.040613    1.640006  "
            ],
            "text/html": [
              "\n",
              "  <div id=\"df-186be695-f11a-4268-8dcd-540b3226e433\">\n",
              "    <div class=\"colab-df-container\">\n",
              "      <div>\n",
              "<style scoped>\n",
              "    .dataframe tbody tr th:only-of-type {\n",
              "        vertical-align: middle;\n",
              "    }\n",
              "\n",
              "    .dataframe tbody tr th {\n",
              "        vertical-align: top;\n",
              "    }\n",
              "\n",
              "    .dataframe thead th {\n",
              "        text-align: right;\n",
              "    }\n",
              "</style>\n",
              "<table border=\"1\" class=\"dataframe\">\n",
              "  <thead>\n",
              "    <tr style=\"text-align: right;\">\n",
              "      <th></th>\n",
              "      <th>antecedents</th>\n",
              "      <th>consequents</th>\n",
              "      <th>antecedent support</th>\n",
              "      <th>consequent support</th>\n",
              "      <th>support</th>\n",
              "      <th>confidence</th>\n",
              "      <th>lift</th>\n",
              "      <th>leverage</th>\n",
              "      <th>conviction</th>\n",
              "    </tr>\n",
              "  </thead>\n",
              "  <tbody>\n",
              "    <tr>\n",
              "      <th>0</th>\n",
              "      <td>(PLASTERS IN TIN CIRCUS PARADE)</td>\n",
              "      <td>(PLASTERS IN TIN WOODLAND ANIMALS)</td>\n",
              "      <td>0.115974</td>\n",
              "      <td>0.137856</td>\n",
              "      <td>0.067834</td>\n",
              "      <td>0.584906</td>\n",
              "      <td>4.242887</td>\n",
              "      <td>0.051846</td>\n",
              "      <td>2.076984</td>\n",
              "    </tr>\n",
              "    <tr>\n",
              "      <th>1</th>\n",
              "      <td>(PLASTERS IN TIN WOODLAND ANIMALS)</td>\n",
              "      <td>(PLASTERS IN TIN CIRCUS PARADE)</td>\n",
              "      <td>0.137856</td>\n",
              "      <td>0.115974</td>\n",
              "      <td>0.067834</td>\n",
              "      <td>0.492063</td>\n",
              "      <td>4.242887</td>\n",
              "      <td>0.051846</td>\n",
              "      <td>1.740427</td>\n",
              "    </tr>\n",
              "    <tr>\n",
              "      <th>2</th>\n",
              "      <td>(PLASTERS IN TIN WOODLAND ANIMALS)</td>\n",
              "      <td>(PLASTERS IN TIN SPACEBOY)</td>\n",
              "      <td>0.137856</td>\n",
              "      <td>0.107221</td>\n",
              "      <td>0.061269</td>\n",
              "      <td>0.444444</td>\n",
              "      <td>4.145125</td>\n",
              "      <td>0.046488</td>\n",
              "      <td>1.607002</td>\n",
              "    </tr>\n",
              "    <tr>\n",
              "      <th>3</th>\n",
              "      <td>(PLASTERS IN TIN SPACEBOY)</td>\n",
              "      <td>(PLASTERS IN TIN WOODLAND ANIMALS)</td>\n",
              "      <td>0.107221</td>\n",
              "      <td>0.137856</td>\n",
              "      <td>0.061269</td>\n",
              "      <td>0.571429</td>\n",
              "      <td>4.145125</td>\n",
              "      <td>0.046488</td>\n",
              "      <td>2.011670</td>\n",
              "    </tr>\n",
              "    <tr>\n",
              "      <th>4</th>\n",
              "      <td>(PLASTERS IN TIN WOODLAND ANIMALS)</td>\n",
              "      <td>(ROUND SNACK BOXES SET OF4 WOODLAND)</td>\n",
              "      <td>0.137856</td>\n",
              "      <td>0.245077</td>\n",
              "      <td>0.074398</td>\n",
              "      <td>0.539683</td>\n",
              "      <td>2.202098</td>\n",
              "      <td>0.040613</td>\n",
              "      <td>1.640006</td>\n",
              "    </tr>\n",
              "  </tbody>\n",
              "</table>\n",
              "</div>\n",
              "      <button class=\"colab-df-convert\" onclick=\"convertToInteractive('df-186be695-f11a-4268-8dcd-540b3226e433')\"\n",
              "              title=\"Convert this dataframe to an interactive table.\"\n",
              "              style=\"display:none;\">\n",
              "        \n",
              "  <svg xmlns=\"http://www.w3.org/2000/svg\" height=\"24px\"viewBox=\"0 0 24 24\"\n",
              "       width=\"24px\">\n",
              "    <path d=\"M0 0h24v24H0V0z\" fill=\"none\"/>\n",
              "    <path d=\"M18.56 5.44l.94 2.06.94-2.06 2.06-.94-2.06-.94-.94-2.06-.94 2.06-2.06.94zm-11 1L8.5 8.5l.94-2.06 2.06-.94-2.06-.94L8.5 2.5l-.94 2.06-2.06.94zm10 10l.94 2.06.94-2.06 2.06-.94-2.06-.94-.94-2.06-.94 2.06-2.06.94z\"/><path d=\"M17.41 7.96l-1.37-1.37c-.4-.4-.92-.59-1.43-.59-.52 0-1.04.2-1.43.59L10.3 9.45l-7.72 7.72c-.78.78-.78 2.05 0 2.83L4 21.41c.39.39.9.59 1.41.59.51 0 1.02-.2 1.41-.59l7.78-7.78 2.81-2.81c.8-.78.8-2.07 0-2.86zM5.41 20L4 18.59l7.72-7.72 1.47 1.35L5.41 20z\"/>\n",
              "  </svg>\n",
              "      </button>\n",
              "      \n",
              "  <style>\n",
              "    .colab-df-container {\n",
              "      display:flex;\n",
              "      flex-wrap:wrap;\n",
              "      gap: 12px;\n",
              "    }\n",
              "\n",
              "    .colab-df-convert {\n",
              "      background-color: #E8F0FE;\n",
              "      border: none;\n",
              "      border-radius: 50%;\n",
              "      cursor: pointer;\n",
              "      display: none;\n",
              "      fill: #1967D2;\n",
              "      height: 32px;\n",
              "      padding: 0 0 0 0;\n",
              "      width: 32px;\n",
              "    }\n",
              "\n",
              "    .colab-df-convert:hover {\n",
              "      background-color: #E2EBFA;\n",
              "      box-shadow: 0px 1px 2px rgba(60, 64, 67, 0.3), 0px 1px 3px 1px rgba(60, 64, 67, 0.15);\n",
              "      fill: #174EA6;\n",
              "    }\n",
              "\n",
              "    [theme=dark] .colab-df-convert {\n",
              "      background-color: #3B4455;\n",
              "      fill: #D2E3FC;\n",
              "    }\n",
              "\n",
              "    [theme=dark] .colab-df-convert:hover {\n",
              "      background-color: #434B5C;\n",
              "      box-shadow: 0px 1px 3px 1px rgba(0, 0, 0, 0.15);\n",
              "      filter: drop-shadow(0px 1px 2px rgba(0, 0, 0, 0.3));\n",
              "      fill: #FFFFFF;\n",
              "    }\n",
              "  </style>\n",
              "\n",
              "      <script>\n",
              "        const buttonEl =\n",
              "          document.querySelector('#df-186be695-f11a-4268-8dcd-540b3226e433 button.colab-df-convert');\n",
              "        buttonEl.style.display =\n",
              "          google.colab.kernel.accessAllowed ? 'block' : 'none';\n",
              "\n",
              "        async function convertToInteractive(key) {\n",
              "          const element = document.querySelector('#df-186be695-f11a-4268-8dcd-540b3226e433');\n",
              "          const dataTable =\n",
              "            await google.colab.kernel.invokeFunction('convertToInteractive',\n",
              "                                                     [key], {});\n",
              "          if (!dataTable) return;\n",
              "\n",
              "          const docLinkHtml = 'Like what you see? Visit the ' +\n",
              "            '<a target=\"_blank\" href=https://colab.research.google.com/notebooks/data_table.ipynb>data table notebook</a>'\n",
              "            + ' to learn more about interactive tables.';\n",
              "          element.innerHTML = '';\n",
              "          dataTable['output_type'] = 'display_data';\n",
              "          await google.colab.output.renderOutput(dataTable, element);\n",
              "          const docLink = document.createElement('div');\n",
              "          docLink.innerHTML = docLinkHtml;\n",
              "          element.appendChild(docLink);\n",
              "        }\n",
              "      </script>\n",
              "    </div>\n",
              "  </div>\n",
              "  "
            ]
          },
          "metadata": {},
          "execution_count": 27
        }
      ]
    },
    {
      "cell_type": "code",
      "metadata": {
        "colab": {
          "base_uri": "https://localhost:8080/"
        },
        "id": "gCMhV8pbErgL",
        "outputId": "dea2c7b5-5ebd-43af-c6f7-6fe0288cb07e"
      },
      "source": [
        "basket_sets['ROUND SNACK BOXES SET OF4 WOODLAND'].sum()"
      ],
      "execution_count": 28,
      "outputs": [
        {
          "output_type": "execute_result",
          "data": {
            "text/plain": [
              "112"
            ]
          },
          "metadata": {},
          "execution_count": 28
        }
      ]
    },
    {
      "cell_type": "code",
      "metadata": {
        "colab": {
          "base_uri": "https://localhost:8080/"
        },
        "id": "i7cGgBTgE5Ic",
        "outputId": "3b28faad-6d3c-4e31-fc85-3d432ec9904d"
      },
      "source": [
        "basket_sets['PLASTERS IN TIN WOODLAND ANIMALS'].sum()"
      ],
      "execution_count": 29,
      "outputs": [
        {
          "output_type": "execute_result",
          "data": {
            "text/plain": [
              "63"
            ]
          },
          "metadata": {},
          "execution_count": 29
        }
      ]
    },
    {
      "cell_type": "code",
      "metadata": {
        "id": "rs9laU8k5_WW",
        "colab": {
          "base_uri": "https://localhost:8080/",
          "height": 452
        },
        "outputId": "80f01891-3e3e-4fcf-f2d3-bbda666e79e4"
      },
      "source": [
        "# We can also sort based on confidance and lift.\n",
        "rules_mlxtend[ (rules_mlxtend['lift'] >= 2) & (rules_mlxtend['confidence'] >= 0.5) ]"
      ],
      "execution_count": 30,
      "outputs": [
        {
          "output_type": "execute_result",
          "data": {
            "text/plain": [
              "                             antecedents  \\\n",
              "0        (PLASTERS IN TIN CIRCUS PARADE)   \n",
              "3             (PLASTERS IN TIN SPACEBOY)   \n",
              "4     (PLASTERS IN TIN WOODLAND ANIMALS)   \n",
              "6   (ROUND SNACK BOXES SET OF4 WOODLAND)   \n",
              "7    (ROUND SNACK BOXES SET OF 4 FRUITS)   \n",
              "9                   (SPACEBOY LUNCH BOX)   \n",
              "11              (WOODLAND CHARLOTTE BAG)   \n",
              "\n",
              "                             consequents  antecedent support  \\\n",
              "0     (PLASTERS IN TIN WOODLAND ANIMALS)            0.115974   \n",
              "3     (PLASTERS IN TIN WOODLAND ANIMALS)            0.107221   \n",
              "4   (ROUND SNACK BOXES SET OF4 WOODLAND)            0.137856   \n",
              "6    (ROUND SNACK BOXES SET OF 4 FRUITS)            0.245077   \n",
              "7   (ROUND SNACK BOXES SET OF4 WOODLAND)            0.157549   \n",
              "9   (ROUND SNACK BOXES SET OF4 WOODLAND)            0.102845   \n",
              "11  (ROUND SNACK BOXES SET OF4 WOODLAND)            0.126915   \n",
              "\n",
              "    consequent support   support  confidence      lift  leverage  conviction  \n",
              "0             0.137856  0.067834    0.584906  4.242887  0.051846    2.076984  \n",
              "3             0.137856  0.061269    0.571429  4.145125  0.046488    2.011670  \n",
              "4             0.245077  0.074398    0.539683  2.202098  0.040613    1.640006  \n",
              "6             0.157549  0.131291    0.535714  3.400298  0.092679    1.814509  \n",
              "7             0.245077  0.131291    0.833333  3.400298  0.092679    4.529540  \n",
              "9             0.245077  0.070022    0.680851  2.778116  0.044817    2.365427  \n",
              "11            0.245077  0.063457    0.500000  2.040179  0.032354    1.509847  "
            ],
            "text/html": [
              "\n",
              "  <div id=\"df-7280a947-0f55-4911-b179-80607fb6765e\">\n",
              "    <div class=\"colab-df-container\">\n",
              "      <div>\n",
              "<style scoped>\n",
              "    .dataframe tbody tr th:only-of-type {\n",
              "        vertical-align: middle;\n",
              "    }\n",
              "\n",
              "    .dataframe tbody tr th {\n",
              "        vertical-align: top;\n",
              "    }\n",
              "\n",
              "    .dataframe thead th {\n",
              "        text-align: right;\n",
              "    }\n",
              "</style>\n",
              "<table border=\"1\" class=\"dataframe\">\n",
              "  <thead>\n",
              "    <tr style=\"text-align: right;\">\n",
              "      <th></th>\n",
              "      <th>antecedents</th>\n",
              "      <th>consequents</th>\n",
              "      <th>antecedent support</th>\n",
              "      <th>consequent support</th>\n",
              "      <th>support</th>\n",
              "      <th>confidence</th>\n",
              "      <th>lift</th>\n",
              "      <th>leverage</th>\n",
              "      <th>conviction</th>\n",
              "    </tr>\n",
              "  </thead>\n",
              "  <tbody>\n",
              "    <tr>\n",
              "      <th>0</th>\n",
              "      <td>(PLASTERS IN TIN CIRCUS PARADE)</td>\n",
              "      <td>(PLASTERS IN TIN WOODLAND ANIMALS)</td>\n",
              "      <td>0.115974</td>\n",
              "      <td>0.137856</td>\n",
              "      <td>0.067834</td>\n",
              "      <td>0.584906</td>\n",
              "      <td>4.242887</td>\n",
              "      <td>0.051846</td>\n",
              "      <td>2.076984</td>\n",
              "    </tr>\n",
              "    <tr>\n",
              "      <th>3</th>\n",
              "      <td>(PLASTERS IN TIN SPACEBOY)</td>\n",
              "      <td>(PLASTERS IN TIN WOODLAND ANIMALS)</td>\n",
              "      <td>0.107221</td>\n",
              "      <td>0.137856</td>\n",
              "      <td>0.061269</td>\n",
              "      <td>0.571429</td>\n",
              "      <td>4.145125</td>\n",
              "      <td>0.046488</td>\n",
              "      <td>2.011670</td>\n",
              "    </tr>\n",
              "    <tr>\n",
              "      <th>4</th>\n",
              "      <td>(PLASTERS IN TIN WOODLAND ANIMALS)</td>\n",
              "      <td>(ROUND SNACK BOXES SET OF4 WOODLAND)</td>\n",
              "      <td>0.137856</td>\n",
              "      <td>0.245077</td>\n",
              "      <td>0.074398</td>\n",
              "      <td>0.539683</td>\n",
              "      <td>2.202098</td>\n",
              "      <td>0.040613</td>\n",
              "      <td>1.640006</td>\n",
              "    </tr>\n",
              "    <tr>\n",
              "      <th>6</th>\n",
              "      <td>(ROUND SNACK BOXES SET OF4 WOODLAND)</td>\n",
              "      <td>(ROUND SNACK BOXES SET OF 4 FRUITS)</td>\n",
              "      <td>0.245077</td>\n",
              "      <td>0.157549</td>\n",
              "      <td>0.131291</td>\n",
              "      <td>0.535714</td>\n",
              "      <td>3.400298</td>\n",
              "      <td>0.092679</td>\n",
              "      <td>1.814509</td>\n",
              "    </tr>\n",
              "    <tr>\n",
              "      <th>7</th>\n",
              "      <td>(ROUND SNACK BOXES SET OF 4 FRUITS)</td>\n",
              "      <td>(ROUND SNACK BOXES SET OF4 WOODLAND)</td>\n",
              "      <td>0.157549</td>\n",
              "      <td>0.245077</td>\n",
              "      <td>0.131291</td>\n",
              "      <td>0.833333</td>\n",
              "      <td>3.400298</td>\n",
              "      <td>0.092679</td>\n",
              "      <td>4.529540</td>\n",
              "    </tr>\n",
              "    <tr>\n",
              "      <th>9</th>\n",
              "      <td>(SPACEBOY LUNCH BOX)</td>\n",
              "      <td>(ROUND SNACK BOXES SET OF4 WOODLAND)</td>\n",
              "      <td>0.102845</td>\n",
              "      <td>0.245077</td>\n",
              "      <td>0.070022</td>\n",
              "      <td>0.680851</td>\n",
              "      <td>2.778116</td>\n",
              "      <td>0.044817</td>\n",
              "      <td>2.365427</td>\n",
              "    </tr>\n",
              "    <tr>\n",
              "      <th>11</th>\n",
              "      <td>(WOODLAND CHARLOTTE BAG)</td>\n",
              "      <td>(ROUND SNACK BOXES SET OF4 WOODLAND)</td>\n",
              "      <td>0.126915</td>\n",
              "      <td>0.245077</td>\n",
              "      <td>0.063457</td>\n",
              "      <td>0.500000</td>\n",
              "      <td>2.040179</td>\n",
              "      <td>0.032354</td>\n",
              "      <td>1.509847</td>\n",
              "    </tr>\n",
              "  </tbody>\n",
              "</table>\n",
              "</div>\n",
              "      <button class=\"colab-df-convert\" onclick=\"convertToInteractive('df-7280a947-0f55-4911-b179-80607fb6765e')\"\n",
              "              title=\"Convert this dataframe to an interactive table.\"\n",
              "              style=\"display:none;\">\n",
              "        \n",
              "  <svg xmlns=\"http://www.w3.org/2000/svg\" height=\"24px\"viewBox=\"0 0 24 24\"\n",
              "       width=\"24px\">\n",
              "    <path d=\"M0 0h24v24H0V0z\" fill=\"none\"/>\n",
              "    <path d=\"M18.56 5.44l.94 2.06.94-2.06 2.06-.94-2.06-.94-.94-2.06-.94 2.06-2.06.94zm-11 1L8.5 8.5l.94-2.06 2.06-.94-2.06-.94L8.5 2.5l-.94 2.06-2.06.94zm10 10l.94 2.06.94-2.06 2.06-.94-2.06-.94-.94-2.06-.94 2.06-2.06.94z\"/><path d=\"M17.41 7.96l-1.37-1.37c-.4-.4-.92-.59-1.43-.59-.52 0-1.04.2-1.43.59L10.3 9.45l-7.72 7.72c-.78.78-.78 2.05 0 2.83L4 21.41c.39.39.9.59 1.41.59.51 0 1.02-.2 1.41-.59l7.78-7.78 2.81-2.81c.8-.78.8-2.07 0-2.86zM5.41 20L4 18.59l7.72-7.72 1.47 1.35L5.41 20z\"/>\n",
              "  </svg>\n",
              "      </button>\n",
              "      \n",
              "  <style>\n",
              "    .colab-df-container {\n",
              "      display:flex;\n",
              "      flex-wrap:wrap;\n",
              "      gap: 12px;\n",
              "    }\n",
              "\n",
              "    .colab-df-convert {\n",
              "      background-color: #E8F0FE;\n",
              "      border: none;\n",
              "      border-radius: 50%;\n",
              "      cursor: pointer;\n",
              "      display: none;\n",
              "      fill: #1967D2;\n",
              "      height: 32px;\n",
              "      padding: 0 0 0 0;\n",
              "      width: 32px;\n",
              "    }\n",
              "\n",
              "    .colab-df-convert:hover {\n",
              "      background-color: #E2EBFA;\n",
              "      box-shadow: 0px 1px 2px rgba(60, 64, 67, 0.3), 0px 1px 3px 1px rgba(60, 64, 67, 0.15);\n",
              "      fill: #174EA6;\n",
              "    }\n",
              "\n",
              "    [theme=dark] .colab-df-convert {\n",
              "      background-color: #3B4455;\n",
              "      fill: #D2E3FC;\n",
              "    }\n",
              "\n",
              "    [theme=dark] .colab-df-convert:hover {\n",
              "      background-color: #434B5C;\n",
              "      box-shadow: 0px 1px 3px 1px rgba(0, 0, 0, 0.15);\n",
              "      filter: drop-shadow(0px 1px 2px rgba(0, 0, 0, 0.3));\n",
              "      fill: #FFFFFF;\n",
              "    }\n",
              "  </style>\n",
              "\n",
              "      <script>\n",
              "        const buttonEl =\n",
              "          document.querySelector('#df-7280a947-0f55-4911-b179-80607fb6765e button.colab-df-convert');\n",
              "        buttonEl.style.display =\n",
              "          google.colab.kernel.accessAllowed ? 'block' : 'none';\n",
              "\n",
              "        async function convertToInteractive(key) {\n",
              "          const element = document.querySelector('#df-7280a947-0f55-4911-b179-80607fb6765e');\n",
              "          const dataTable =\n",
              "            await google.colab.kernel.invokeFunction('convertToInteractive',\n",
              "                                                     [key], {});\n",
              "          if (!dataTable) return;\n",
              "\n",
              "          const docLinkHtml = 'Like what you see? Visit the ' +\n",
              "            '<a target=\"_blank\" href=https://colab.research.google.com/notebooks/data_table.ipynb>data table notebook</a>'\n",
              "            + ' to learn more about interactive tables.';\n",
              "          element.innerHTML = '';\n",
              "          dataTable['output_type'] = 'display_data';\n",
              "          await google.colab.output.renderOutput(dataTable, element);\n",
              "          const docLink = document.createElement('div');\n",
              "          docLink.innerHTML = docLinkHtml;\n",
              "          element.appendChild(docLink);\n",
              "        }\n",
              "      </script>\n",
              "    </div>\n",
              "  </div>\n",
              "  "
            ]
          },
          "metadata": {},
          "execution_count": 30
        }
      ]
    },
    {
      "cell_type": "markdown",
      "metadata": {
        "id": "qkNhRWHO5mtr"
      },
      "source": [
        "There will always be incoming and outgoing edges in this graph. The antecedants will be represented by the incoming edge(s), and the stub (arrow) will be next to the node."
      ]
    },
    {
      "cell_type": "code",
      "metadata": {
        "id": "7TlYiO9eRNKi"
      },
      "source": [
        "rules=rules_mlxtend"
      ],
      "execution_count": 31,
      "outputs": []
    },
    {
      "cell_type": "code",
      "metadata": {
        "colab": {
          "base_uri": "https://localhost:8080/",
          "height": 1000
        },
        "id": "seNLUgPg3TaF",
        "outputId": "788de190-2437-4866-c3c0-76a0e7e1eda6"
      },
      "source": [
        "import networkx as nx\n",
        "import matplotlib.pyplot as plt  \n",
        "\n",
        "def draw_graph(rules, rules_to_show):\n",
        "    G1 = nx.DiGraph()\n",
        "    color_map=[]\n",
        "    N = 50\n",
        "    colors = np.random.rand(N)    \n",
        "    strs=['R0', 'R1', 'R2', 'R3', 'R4', 'R5', 'R6', 'R7', 'R8', 'R9', 'R10', 'R11']\n",
        "\n",
        "    for i in range(rules_to_show):\n",
        "        G1.add_nodes_from([\"R\"+str(i)])\n",
        "        for a in rules.iloc[i]['antecedents']:\n",
        "            G1.add_nodes_from([a])\n",
        "            G1.add_edge(a, \"R\"+str(i), color=colors[i] , weight = 2)\n",
        "        for c in rules.iloc[i]['consequents']:\n",
        "            G1.add_nodes_from([c])\n",
        "            G1.add_edge(\"R\"+str(i), c, color=colors[i],  weight=2)\n",
        "\n",
        "    for node in G1:\n",
        "      found_a_string = False\n",
        "      for item in strs: \n",
        "        if node==item:\n",
        "          found_a_string = True\n",
        "      if found_a_string:\n",
        "        color_map.append('yellow')\n",
        "      else:\n",
        "        color_map.append('green')       \n",
        "\n",
        "    edges = G1.edges()\n",
        "    colors = [G1[u][v]['color'] for u,v in edges]\n",
        "    weights = [G1[u][v]['weight'] for u,v in edges]\n",
        "\n",
        "\n",
        "    # nx.draw(G1, pos, edges=edges, node_color = color_map, edge_color=colors, width=weights, font_size=16, with_labels=False) \n",
        "    pos = nx.spring_layout(G1, k=16, scale=1)\n",
        "    nx.draw(G1, pos,node_color = color_map, edge_color=colors, width=weights, font_size=16, with_labels=False)           \n",
        "    \n",
        "\n",
        "    for p in pos:  # raise text positions\n",
        "        pos[p][1] += 0.07\n",
        "        nx.draw_networkx_labels(G1, pos)\n",
        "        plt.show()\n",
        "      \n",
        "      \n",
        "      \n",
        "draw_graph (rules_mlxtend,10) "
      ],
      "execution_count": 32,
      "outputs": [
        {
          "output_type": "display_data",
          "data": {
            "text/plain": [
              "<Figure size 432x288 with 1 Axes>"
            ],
            "image/png": "[encoded data removed]"
          },
          "metadata": {}
        },
        {
          "output_type": "display_data",
          "data": {
            "text/plain": [
              "<Figure size 432x288 with 1 Axes>"
            ],
            "image/png": "[encoded data removed]"
          },
          "metadata": {}
        },
        {
          "output_type": "display_data",
          "data": {
            "text/plain": [
              "<Figure size 432x288 with 1 Axes>"
            ],
            "image/png": "[encoded data removed]"
          },
          "metadata": {}
        },
        {
          "output_type": "display_data",
          "data": {
            "text/plain": [
              "<Figure size 432x288 with 1 Axes>"
            ],
            "image/png": "[encoded data removed]"
          },
          "metadata": {}
        },
        {
          "output_type": "display_data",
          "data": {
            "text/plain": [
              "<Figure size 432x288 with 1 Axes>"
            ],
            "image/png": "[encoded data removed]"
          },
          "metadata": {}
        },
        {
          "output_type": "display_data",
          "data": {
            "text/plain": [
              "<Figure size 432x288 with 1 Axes>"
            ],
            "image/png": "[encoded data removed]"
          },
          "metadata": {}
        },
        {
          "output_type": "display_data",
          "data": {
            "text/plain": [
              "<Figure size 432x288 with 1 Axes>"
            ],
            "image/png": "[encoded data removed]"
          },
          "metadata": {}
        },
        {
          "output_type": "display_data",
          "data": {
            "text/plain": [
              "<Figure size 432x288 with 1 Axes>"
            ],
            "image/png": "[encoded data removed]"
          },
          "metadata": {}
        },
        {
          "output_type": "display_data",
          "data": {
            "text/plain": [
              "<Figure size 432x288 with 1 Axes>"
            ],
            "image/png": "[encoded data removed]"
          },
          "metadata": {}
        },
        {
          "output_type": "display_data",
          "data": {
            "text/plain": [
              "<Figure size 432x288 with 1 Axes>"
            ],
            "image/png": "[encoded data removed]"
          },
          "metadata": {}
        },
        {
          "output_type": "display_data",
          "data": {
            "text/plain": [
              "<Figure size 432x288 with 1 Axes>"
            ],
            "image/png": "[encoded data removed]"
          },
          "metadata": {}
        },
        {
          "output_type": "display_data",
          "data": {
            "text/plain": [
              "<Figure size 432x288 with 1 Axes>"
            ],
            "image/png": "[encoded data removed]"
          },
          "metadata": {}
        },
        {
          "output_type": "display_data",
          "data": {
            "text/plain": [
              "<Figure size 432x288 with 1 Axes>"
            ],
            "image/png": "[encoded data removed]"
          },
          "metadata": {}
        },
        {
          "output_type": "display_data",
          "data": {
            "text/plain": [
              "<Figure size 432x288 with 1 Axes>"
            ],
            "image/png": "[encoded data removed]"
          },
          "metadata": {}
        },
        {
          "output_type": "display_data",
          "data": {
            "text/plain": [
              "<Figure size 432x288 with 1 Axes>"
            ],
            "image/png": "[encoded data removed]"
          },
          "metadata": {}
        },
        {
          "output_type": "display_data",
          "data": {
            "text/plain": [
              "<Figure size 432x288 with 1 Axes>"
            ],
            "image/png": "[encoded data removed]"
          },
          "metadata": {}
        }
      ]
    },
    {
      "cell_type": "code",
      "metadata": {
        "colab": {
          "base_uri": "https://localhost:8080/",
          "height": 453
        },
        "id": "ZLR0O_09R0dl",
        "outputId": "3845d663-fdf0-49bc-e10a-9edcef4482ad"
      },
      "source": [
        "#here we try to build up a scatter plot to represent the diagram for confidence and support\n",
        "import random\n",
        "import matplotlib.pyplot as plt\n",
        "\n",
        "support=rules['support']\n",
        "confidence=rules['confidence']\n",
        " \n",
        "for i in range (len(support)):\n",
        "   support[i] = support[i] + 0.0025 * (random.randint(1,10) - 5) \n",
        "   confidence[i] = confidence[i] + 0.0025 * (random.randint(1,10) - 5)\n",
        " \n",
        "plt.scatter(support, confidence,   alpha=0.5, marker=\"*\")\n",
        "plt.xlabel('support')\n",
        "plt.ylabel('confidence') \n",
        "plt.show()"
      ],
      "execution_count": 33,
      "outputs": [
        {
          "output_type": "stream",
          "name": "stderr",
          "text": [
            "/usr/local/lib/python3.7/dist-packages/ipykernel_launcher.py:9: SettingWithCopyWarning: \n",
            "A value is trying to be set on a copy of a slice from a DataFrame\n",
            "\n",
            "See the caveats in the documentation: https://pandas.pydata.org/pandas-docs/stable/user_guide/indexing.html#returning-a-view-versus-a-copy\n",
            "  if __name__ == '__main__':\n",
            "/usr/local/lib/python3.7/dist-packages/ipykernel_launcher.py:10: SettingWithCopyWarning: \n",
            "A value is trying to be set on a copy of a slice from a DataFrame\n",
            "\n",
            "See the caveats in the documentation: https://pandas.pydata.org/pandas-docs/stable/user_guide/indexing.html#returning-a-view-versus-a-copy\n",
            "  # Remove the CWD from sys.path while we load stuff.\n"
          ]
        },
        {
          "output_type": "display_data",
          "data": {
            "text/plain": [
              "<Figure size 432x288 with 1 Axes>"
            ],
            "image/png": "[encoded data removed]"
          },
          "metadata": {
            "needs_background": "light"
          }
        }
      ]
    },
    {
      "cell_type": "code",
      "metadata": {
        "colab": {
          "base_uri": "https://localhost:8080/",
          "height": 1000
        },
        "id": "iq048MOEOBBx",
        "outputId": "9c162e46-4b51-496e-c817-da2621b79841"
      },
      "source": [
        "#we are here trying to present a seaborn visualization for support and confidence\n",
        "support=rules['support']\n",
        "confidence=rules['confidence']\n",
        " \n",
        "import seaborn as sns1\n",
        " \n",
        "for i in range (len(support)):\n",
        "    support[i] = support[i] \n",
        "    confidence[i] = confidence[i] \n",
        "     \n",
        "plt.title('Association Rules')\n",
        "plt.xlabel('support')\n",
        "plt.ylabel('confidence')    \n",
        "sns1.regplot(x=support, y=confidence, fit_reg=False)\n",
        " \n",
        "plt.gcf().clear()\n",
        "draw_graph (rules, 10)  "
      ],
      "execution_count": 34,
      "outputs": [
        {
          "output_type": "stream",
          "name": "stderr",
          "text": [
            "/usr/local/lib/python3.7/dist-packages/ipykernel_launcher.py:8: SettingWithCopyWarning: \n",
            "A value is trying to be set on a copy of a slice from a DataFrame\n",
            "\n",
            "See the caveats in the documentation: https://pandas.pydata.org/pandas-docs/stable/user_guide/indexing.html#returning-a-view-versus-a-copy\n",
            "  \n",
            "/usr/local/lib/python3.7/dist-packages/ipykernel_launcher.py:9: SettingWithCopyWarning: \n",
            "A value is trying to be set on a copy of a slice from a DataFrame\n",
            "\n",
            "See the caveats in the documentation: https://pandas.pydata.org/pandas-docs/stable/user_guide/indexing.html#returning-a-view-versus-a-copy\n",
            "  if __name__ == '__main__':\n"
          ]
        },
        {
          "output_type": "display_data",
          "data": {
            "text/plain": [
              "<Figure size 432x288 with 1 Axes>"
            ],
            "image/png": "[encoded data removed]"
          },
          "metadata": {}
        },
        {
          "output_type": "display_data",
          "data": {
            "text/plain": [
              "<Figure size 432x288 with 1 Axes>"
            ],
            "image/png": "[encoded data removed]"
          },
          "metadata": {}
        },
        {
          "output_type": "display_data",
          "data": {
            "text/plain": [
              "<Figure size 432x288 with 1 Axes>"
            ],
            "image/png": "[encoded data removed]"
          },
          "metadata": {}
        },
        {
          "output_type": "display_data",
          "data": {
            "text/plain": [
              "<Figure size 432x288 with 1 Axes>"
            ],
            "image/png": "[encoded data removed]"
          },
          "metadata": {}
        },
        {
          "output_type": "display_data",
          "data": {
            "text/plain": [
              "<Figure size 432x288 with 1 Axes>"
            ],
            "image/png": "[encoded data removed]"
          },
          "metadata": {}
        },
        {
          "output_type": "display_data",
          "data": {
            "text/plain": [
              "<Figure size 432x288 with 1 Axes>"
            ],
            "image/png": "[encoded data removed]"
          },
          "metadata": {}
        },
        {
          "output_type": "display_data",
          "data": {
            "text/plain": [
              "<Figure size 432x288 with 1 Axes>"
            ],
            "image/png": "[encoded data removed]"
          },
          "metadata": {}
        },
        {
          "output_type": "display_data",
          "data": {
            "text/plain": [
              "<Figure size 432x288 with 1 Axes>"
            ],
            "image/png": "[encoded data removed]"
          },
          "metadata": {}
        },
        {
          "output_type": "display_data",
          "data": {
            "text/plain": [
              "<Figure size 432x288 with 1 Axes>"
            ],
            "image/png": "[encoded data removed]"
          },
          "metadata": {}
        },
        {
          "output_type": "display_data",
          "data": {
            "text/plain": [
              "<Figure size 432x288 with 1 Axes>"
            ],
            "image/png": "[encoded data removed]"
          },
          "metadata": {}
        },
        {
          "output_type": "display_data",
          "data": {
            "text/plain": [
              "<Figure size 432x288 with 1 Axes>"
            ],
            "image/png": "[encoded data removed]"
          },
          "metadata": {}
        },
        {
          "output_type": "display_data",
          "data": {
            "text/plain": [
              "<Figure size 432x288 with 1 Axes>"
            ],
            "image/png": "[encoded data removed]"
          },
          "metadata": {}
        },
        {
          "output_type": "display_data",
          "data": {
            "text/plain": [
              "<Figure size 432x288 with 1 Axes>"
            ],
            "image/png": "[encoded data removed]"
          },
          "metadata": {}
        },
        {
          "output_type": "display_data",
          "data": {
            "text/plain": [
              "<Figure size 432x288 with 1 Axes>"
            ],
            "image/png": "[encoded data removed]"
          },
          "metadata": {}
        },
        {
          "output_type": "display_data",
          "data": {
            "text/plain": [
              "<Figure size 432x288 with 1 Axes>"
            ],
            "image/png": "[encoded data removed]"
          },
          "metadata": {}
        },
        {
          "output_type": "display_data",
          "data": {
            "text/plain": [
              "<Figure size 432x288 with 1 Axes>"
            ],
            "image/png": "[encoded data removed]"
          },
          "metadata": {}
        }
      ]
    },
    {
      "cell_type": "code",
      "metadata": {
        "colab": {
          "base_uri": "https://localhost:8080/",
          "height": 319
        },
        "id": "XC3907f4N-J3",
        "outputId": "e312a1e7-326f-424b-dd9e-9d96997e8973"
      },
      "source": [
        "import numpy as np\n",
        " \n",
        "def draw_graph(rules, rules_to_show):\n",
        "  import networkx as nx  \n",
        "  G1 = nx.DiGraph()\n",
        "   \n",
        "  color_map=[]\n",
        "  N = 50\n",
        "  colors = np.random.rand(N)    \n",
        "  strs=['R0', 'R1', 'R2', 'R3', 'R4', 'R5', 'R6', 'R7', 'R8', 'R9', 'R10', 'R11']   \n",
        "   \n",
        "   \n",
        "  for i in range (rules_to_show):      \n",
        "    G1.add_nodes_from([\"R\"+str(i)])\n",
        "    \n",
        "    for a in rules.iloc[i]['antecedents']:\n",
        "                \n",
        "        G1.add_nodes_from([a])\n",
        "        \n",
        "        G1.add_edge(a, \"R\"+str(i), color=colors[i] , weight = 2)\n",
        "       \n",
        "    for c in rules.iloc[i]['consequents']:\n",
        "             \n",
        "            G1.add_nodes_from([c])\n",
        "            \n",
        "            G1.add_edge(\"R\"+str(i), c, color=colors[i],  weight=2)\n",
        " \n",
        "  for node in G1:\n",
        "       found_a_string = False\n",
        "       for item in strs: \n",
        "           if node==item:\n",
        "                found_a_string = True\n",
        "       if found_a_string:\n",
        "            color_map.append('yellow')\n",
        "       else:\n",
        "            color_map.append('green')       \n",
        " \n",
        " \n",
        "  edges= G1.edges()\n",
        "  colors = [G1[u][v]['color'] for u,v in edges]\n",
        "  weights = [G1[u][v]['weight'] for u,v in edges]\n",
        " \n",
        "  pos = nx.spring_layout(G1, k=16, scale=1)\n",
        "  nx.draw(G1, pos,node_color = color_map, edge_color=colors, width=weights, font_size=16, with_labels=False)            \n",
        "   \n",
        "  for p in pos:  # raise text positions\n",
        "           pos[p][1] += 0.07\n",
        "  nx.draw_networkx_labels(G1, pos)\n",
        "  plt.show()\n",
        " \n",
        "     \n",
        "draw_graph (rules_mlxtend, 6)   "
      ],
      "execution_count": 35,
      "outputs": [
        {
          "output_type": "display_data",
          "data": {
            "text/plain": [
              "<Figure size 432x288 with 1 Axes>"
            ],
            "image/png": "[encoded data removed]"
          },
          "metadata": {}
        }
      ]
    }
  ]
}